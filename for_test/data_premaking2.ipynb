{
 "cells": [
  {
   "cell_type": "code",
   "execution_count": 1,
   "metadata": {
    "collapsed": true
   },
   "outputs": [
    {
     "name": "stdout",
     "output_type": "stream",
     "text": [
      "/opt/ml/code\n"
     ]
    }
   ],
   "source": [
    "%cd code"
   ]
  },
  {
   "cell_type": "code",
   "execution_count": 35,
   "outputs": [
    {
     "name": "stdout",
     "output_type": "stream",
     "text": [
      "                                               sentence entity_01  \\\n",
      "0     영국에서 사용되는 스포츠 유틸리티 자동차의 브랜드로는 랜드로버(Land Rover)...      랜드로버   \n",
      "1     선거에서 민주당은 해산 전 의석인 230석에 한참 못 미치는 57석(지역구 27석,...       민주당   \n",
      "2     유럽 축구 연맹(UEFA) 집행위원회는 2014년 1월 24일에 열린 회의를 통해 ...  유럽 축구 연맹   \n",
      "3     용병 공격수 챠디의 부진과 시즌 초 활약한 강수일의 침체, 시즌 중반에 영입한 세르...       강수일   \n",
      "4     람캄행 왕은 1237년에서 1247년 사이 수코타이의 왕 퍼쿤 씨 인트라팃과 쓰엉 ...       람캄행   \n",
      "...                                                 ...       ...   \n",
      "8995  2002년 FIFA 월드컵 사우디아라비아와의 1차전에서 독일은 8-0으로 승리하였는...   사우디아라비아   \n",
      "8996  일본의 2대 메이커인 토요타와 닛산은 시장 점유율을 높이기 위한 신차 개발을 계속하...       토요타   \n",
      "8997  방호의의 손자 방덕룡(方德龍)은 1588년(선조 21년) 무과에 급제하고 낙안군수로...       방덕룡   \n",
      "8998  LG전자는 올해 초 국내시장에 출시한 2020년형 ‘LG 그램’ 시리즈를 이달부터 ...      LG전자   \n",
      "8999  전남도의회 안전건설소방위원회 차영수 의원(강진1)은 지난 14일 설 명절을 앞두고 ...       차영수   \n",
      "\n",
      "           entity_02  label  \n",
      "0                자동차     17  \n",
      "1                27석      0  \n",
      "2               UEFA      6  \n",
      "3                공격수      2  \n",
      "4          퍼쿤 씨 인트라팃      8  \n",
      "...              ...    ...  \n",
      "8995           2002년      0  \n",
      "8996              일본      9  \n",
      "8997  선무원종공신(宣武原從功臣)      2  \n",
      "8998              북미      0  \n",
      "8999              의원      2  \n",
      "\n",
      "[9000 rows x 4 columns]\n",
      "                                                 sentence entity_01  \\\n",
      "0                      함석헌 은 1901 년  평안북도 용천 에서 출생 했 다 .        함석헌   \n",
      "1        토마스 만 은 평의원 이 며 곡물 상인 이 었 던 토마스 요한 하인리히 만 과 율...     토마스 만   \n",
      "2        하인리히 뵐 ( Heinrich B ö ll , 쾰른 , 1917 년 12 월 2...    하인리히 뵐   \n",
      "3        하인리히 뵐 ( Heinrich B ö ll , 쾰른 , 1917 년 12 월 2...    하인리히 뵐   \n",
      "4       노무현 은 ' 1986 년  부산광역시 에서 송기인 신부 로부터 영세 를 받 아 '...       송기인   \n",
      "...                                                   ...       ...   \n",
      "280506                2. \"사슴여인\" (박건호 작사 / 계동균 작곡) – 03:24       박건호   \n",
      "280507               9. \"안녕히 계세요\" (장덕 작사 / 장덕 작곡) - 02:06        장덕   \n",
      "280508  2009년, 블런트는 장마크 발레가 감독을 맡고 줄리언 펠로스가 각본을 쓴 《영 빅...   줄리언 펠로스   \n",
      "280509  2008년 저드 애퍼토가 제작하고 세스 로건과 에번 골드버그가 각본을 맡은 코미디 ...   에번 골드버그   \n",
      "280510  영화 《라이터를 켜라》,《귀신이 산다》의 장항준, 《그해 여름》의 김은희 작가가 공...       장항준   \n",
      "\n",
      "         entity_02  label  \n",
      "0             평안북도     19  \n",
      "1              뤼베크     19  \n",
      "2           랑엔브로이히     19  \n",
      "3               쾰른     19  \n",
      "4            부산광역시     19  \n",
      "...            ...    ...  \n",
      "280506        사슴여인     22  \n",
      "280507     안녕히 계세요     22  \n",
      "280508      영 빅토리아     22  \n",
      "280509  파인애플 익스프레스     22  \n",
      "280510      귀신이 산다     22  \n",
      "\n",
      "[280511 rows x 4 columns]\n",
      "                                                 sentence  entity_01  \\\n",
      "0       본관 은 인동 장 씨 ( 仁同 ) 으로 대한민국 의 부통령 · 대한민국 의 총리 장...         장발   \n",
      "1       2009 년 / 2010 년 시즌 이 끝난 후 , 볼로소자르 는 러시아 의 막심 트...    막심 트란코프   \n",
      "2        마츠모토 마리카 ( , 1984 년 9 월 12 일 ~ ) 는 일본 의 성우 겸 ...   마츠모토 마리카   \n",
      "3        안타나스 스메토나 ( , 1874 년 8 월 10 일 ~ 1944 년 1 월 9 ...  안타나스 스메토나   \n",
      "4        야마모토 다이스케 ( , 1976 년 7 월 2 일 ~ ) 는 일본 의 성우 이 ...  야마모토 다이스케   \n",
      "...                                                   ...        ...   \n",
      "280506  한민당 은 이승만 의 ' 단독정부 론 ' 에 찬성 하 고 대한민국 정부 수립 에 참...        이승만   \n",
      "280507   빌랄 모하메드 ( , 1986 년 6 월 2 일 ~ ) 는 카타르 의 축구 선수 ...    빌랄 모하메드   \n",
      "280508  제 2 황자 이 며 강희제 의 유일 한 적자 이 자 적장남 인 윤잉 ( 胤礽 ) 은...        강희제   \n",
      "280509  2006 년 에 는 최문형 한양대 명예 교수 가 일본 헌정 자료실 에서 찾아낸 야마...    무쓰 무네미쓰   \n",
      "280510  그 대회 의 5000 m 결승전 에서 우승 후보 로 보이 던 체코슬로바키아 의 에밀...    에밀 자토페크   \n",
      "\n",
      "       entity_02  label  \n",
      "0             장극     11  \n",
      "1            러시아      7  \n",
      "2             성우      2  \n",
      "3          리투아니아      7  \n",
      "4             일본      7  \n",
      "...          ...    ...  \n",
      "280506      대한민국     40  \n",
      "280507       카타르      7  \n",
      "280508        윤잉     21  \n",
      "280509        일본      7  \n",
      "280510   체코슬로바키아      7  \n",
      "\n",
      "[280511 rows x 4 columns]\n"
     ]
    }
   ],
   "source": [
    "from load_data import *\n",
    "import pandas as pd\n",
    "\n",
    "train_ori = load_data(\"../input/data/train/train.tsv\")\n",
    "print(train_ori)\n",
    "boddin_add = pd.read_csv(\"../input/data/train/all+bodi.tsv\", delimiter='\\t')\n",
    "print(boddin_add)\n",
    "boddin_add=boddin_add.sample(frac=1).reset_index(drop=True)\n",
    "print(boddin_add)"
   ],
   "metadata": {
    "collapsed": false,
    "pycharm": {
     "name": "#%%\n"
    }
   }
  },
  {
   "cell_type": "code",
   "execution_count": 3,
   "outputs": [
    {
     "name": "stdout",
     "output_type": "stream",
     "text": [
      "       sentence  entity_01  entity_02\n",
      "label                                \n",
      "0          4438       4438       4438\n",
      "1            92         92         92\n",
      "2           553        553        553\n",
      "3            44         44         44\n",
      "4           679        679        679\n",
      "5           186        186        186\n",
      "6           231        231        231\n",
      "7           209        209        209\n",
      "8           164        164        164\n",
      "9           115        115        115\n",
      "10          815        815        815\n",
      "11           58         58         58\n",
      "12           45         45         45\n",
      "13           11         11         11\n",
      "14           45         45         45\n",
      "15          335        335        335\n",
      "16           23         23         23\n",
      "17          169        169        169\n",
      "18            7          7          7\n",
      "19            4          4          4\n",
      "20          136        136        136\n",
      "21           84         84         84\n",
      "22           56         56         56\n",
      "23           79         79         79\n",
      "24          103        103        103\n",
      "25           52         52         52\n",
      "26            8          8          8\n",
      "27           36         36         36\n",
      "28            9          9          9\n",
      "29            5          5          5\n",
      "30           12         12         12\n",
      "31           15         15         15\n",
      "32           26         26         26\n",
      "33           67         67         67\n",
      "34           15         15         15\n",
      "35           27         27         27\n",
      "36           11         11         11\n",
      "37            3          3          3\n",
      "38           18         18         18\n",
      "39            9          9          9\n",
      "40            1          1          1\n",
      "41            5          5          5\n",
      "       sentence  entity_01  entity_02\n",
      "label                                \n",
      "1         11205      11205      11205\n",
      "2         34615      34615      34615\n",
      "4           875        875        875\n",
      "7         77850      77850      77850\n",
      "8          4566       4566       4566\n",
      "10        13779      13779      13779\n",
      "11         9650       9650       9650\n",
      "12          124        124        124\n",
      "15         3436       3436       3436\n",
      "17        15039      15039      15039\n",
      "19        15402      15402      15402\n",
      "21        10461      10461      10461\n",
      "22        16601      16601      16601\n",
      "26        28037      28037      28037\n",
      "33        27757      27757      27757\n",
      "37          551        551        551\n",
      "38         1591       1591       1591\n",
      "39         2062       2062       2062\n",
      "40         6910       6910       6910\n"
     ]
    }
   ],
   "source": [
    "print(train_ori.groupby('label').count())\n",
    "print(boddin_add.groupby('label').count())"
   ],
   "metadata": {
    "collapsed": false,
    "pycharm": {
     "name": "#%%\n"
    }
   }
  },
  {
   "cell_type": "code",
   "execution_count": 4,
   "outputs": [
    {
     "data": {
      "text/plain": "<AxesSubplot:xlabel='label', ylabel='Count'>"
     },
     "execution_count": 4,
     "metadata": {},
     "output_type": "execute_result"
    },
    {
     "data": {
      "text/plain": "<Figure size 432x288 with 1 Axes>",
      "image/png": "[encoded data removed]"
     },
     "metadata": {
      "needs_background": "light"
     },
     "output_type": "display_data"
    }
   ],
   "source": [
    "import seaborn as sns\n",
    "\n",
    "sns.histplot(train_ori['label'])"
   ],
   "metadata": {
    "collapsed": false,
    "pycharm": {
     "name": "#%%\n"
    }
   }
  },
  {
   "cell_type": "code",
   "execution_count": 5,
   "outputs": [
    {
     "data": {
      "text/plain": "<AxesSubplot:xlabel='label', ylabel='Count'>"
     },
     "execution_count": 5,
     "metadata": {},
     "output_type": "execute_result"
    },
    {
     "data": {
      "text/plain": "<Figure size 432x288 with 1 Axes>",
      "image/png": "[encoded data removed]"
     },
     "metadata": {
      "needs_background": "light"
     },
     "output_type": "display_data"
    }
   ],
   "source": [
    "sns.histplot(boddin_add['label'])"
   ],
   "metadata": {
    "collapsed": false,
    "pycharm": {
     "name": "#%%\n"
    }
   }
  },
  {
   "cell_type": "code",
   "execution_count": 6,
   "outputs": [
    {
     "name": "stdout",
     "output_type": "stream",
     "text": [
      "       sentence  entity_01  entity_02     ratio\n",
      "label                                          \n",
      "0          4438       4438       4438  0.493111\n",
      "1            92         92         92  0.010222\n",
      "2           553        553        553  0.061444\n",
      "3            44         44         44  0.004889\n",
      "4           679        679        679  0.075444\n",
      "5           186        186        186  0.020667\n",
      "6           231        231        231  0.025667\n",
      "7           209        209        209  0.023222\n",
      "8           164        164        164  0.018222\n",
      "9           115        115        115  0.012778\n",
      "10          815        815        815  0.090556\n",
      "11           58         58         58  0.006444\n",
      "12           45         45         45  0.005000\n",
      "13           11         11         11  0.001222\n",
      "14           45         45         45  0.005000\n",
      "15          335        335        335  0.037222\n",
      "16           23         23         23  0.002556\n",
      "17          169        169        169  0.018778\n",
      "18            7          7          7  0.000778\n",
      "19            4          4          4  0.000444\n",
      "20          136        136        136  0.015111\n",
      "21           84         84         84  0.009333\n",
      "22           56         56         56  0.006222\n",
      "23           79         79         79  0.008778\n",
      "24          103        103        103  0.011444\n",
      "25           52         52         52  0.005778\n",
      "26            8          8          8  0.000889\n",
      "27           36         36         36  0.004000\n",
      "28            9          9          9  0.001000\n",
      "29            5          5          5  0.000556\n",
      "30           12         12         12  0.001333\n",
      "31           15         15         15  0.001667\n",
      "32           26         26         26  0.002889\n",
      "33           67         67         67  0.007444\n",
      "34           15         15         15  0.001667\n",
      "35           27         27         27  0.003000\n",
      "36           11         11         11  0.001222\n",
      "37            3          3          3  0.000333\n",
      "38           18         18         18  0.002000\n",
      "39            9          9          9  0.001000\n",
      "40            1          1          1  0.000111\n",
      "41            5          5          5  0.000556\n"
     ]
    },
    {
     "data": {
      "text/plain": "<AxesSubplot:xlabel='label', ylabel='Count'>"
     },
     "execution_count": 6,
     "metadata": {},
     "output_type": "execute_result"
    },
    {
     "data": {
      "text/plain": "<Figure size 432x288 with 1 Axes>",
      "image/png": "[encoded data removed]"
     },
     "metadata": {
      "needs_background": "light"
     },
     "output_type": "display_data"
    }
   ],
   "source": [
    "train_ratio = train_ori.groupby('label').count()\n",
    "train_ratio['ratio'] = train_ratio['sentence'] / len(train_ori)\n",
    "print(train_ratio)\n",
    "sns.histplot(train_ori['label'])"
   ],
   "metadata": {
    "collapsed": false,
    "pycharm": {
     "name": "#%%\n"
    }
   }
  },
  {
   "cell_type": "code",
   "execution_count": 7,
   "outputs": [],
   "source": [
    "import copy\n",
    "\n",
    "boddin_add_cut = copy.deepcopy(boddin_add)"
   ],
   "metadata": {
    "collapsed": false,
    "pycharm": {
     "name": "#%%\n"
    }
   }
  },
  {
   "cell_type": "code",
   "execution_count": 8,
   "outputs": [],
   "source": [
    "def show_hist(boddin_add_cut):\n",
    "    ratio = boddin_add_cut.groupby('label').count()\n",
    "    ratio['ratio'] = ratio['sentence'] / len(boddin_add_cut)\n",
    "    print(ratio)\n",
    "    sns.histplot(boddin_add_cut['label'])"
   ],
   "metadata": {
    "collapsed": false,
    "pycharm": {
     "name": "#%%\n"
    }
   }
  },
  {
   "cell_type": "code",
   "execution_count": 9,
   "outputs": [
    {
     "data": {
      "text/plain": "sentence     살바토레 시리구(, 1987년 1월 12일, 누오로 ~ ) 는 이탈리아의 축구 선수...\nentity_01                                               토리노 FC\nentity_02                                                세리에 A\nlabel                                                       15\nName: 1, dtype: object"
     },
     "execution_count": 9,
     "metadata": {},
     "output_type": "execute_result"
    }
   ],
   "source": [
    "boddin_add_cut.loc[1]"
   ],
   "metadata": {
    "collapsed": false,
    "pycharm": {
     "name": "#%%\n"
    }
   }
  },
  {
   "cell_type": "code",
   "execution_count": 10,
   "outputs": [
    {
     "data": {
      "text/plain": "                                                 sentence entity_01  \\\n0       97 년 10 월 8 일 부터 12 월 11 일 까지 경쟁 한 < 그대 나 를 부 ...       성준기   \n2        패트리스 러셴 ( Patrice Rushen , 1954 년 9 월 30 일 ~ ...   패트리스 러셴   \n3        고려 는 1369 년 ( 고려 공민왕 18 ) 부터 명나라 와 외교 관계 를 맺 ...    고려 공민왕   \n4        황성민 ( 1991 년 6 월 23 일 ~ ) 는 대한민국 의 축구 선수 이 며 ...       황성민   \n5            1946년 10 월 1 일 , 일제 잔재 청산 에 따라 운니동 으로 명칭 환원        운니동   \n...                                                   ...       ...   \n280506  월트 디즈니 컴퍼니 산하의 ABC 스튜디오가 제작여 ABC 계열에서 방송되고 있으며...  ABC 스튜디오   \n280507  이 중 민태호 는 민겸호 , 민승호 , 민규호 가 죽 은 뒤 민 씨 척신 세력 의 ...       민영목   \n280508  독일 에서 이주 한 개신교 집 에서 태어났 으며 , 그 의 이름 은 19 세기 미국...        다윗   \n280509  2008 년 4 월 4 일 한화 이글스 의 내야수 부족 과 삼성 라이온즈  포수 현...       현재윤   \n280510                     명나라 ( 明 ) 정덕제 ( 武宗 正德帝 ) 14 년        정덕제   \n\n         entity_02  label  \n0         숨은 그림 찾기     22  \n2              작곡가      2  \n3               고려      7  \n4             대한민국     26  \n5            1946년     33  \n...            ...    ...  \n280506  월트 디즈니 컴퍼니     15  \n280507        명성황후     11  \n280508  연합 이스라엘 왕국      7  \n280509          포수      2  \n280510         명나라      7  \n\n[280510 rows x 4 columns]",
      "text/html": "<div>\n<style scoped>\n    .dataframe tbody tr th:only-of-type {\n        vertical-align: middle;\n    }\n\n    .dataframe tbody tr th {\n        vertical-align: top;\n    }\n\n    .dataframe thead th {\n        text-align: right;\n    }\n</style>\n<table border=\"1\" class=\"dataframe\">\n  <thead>\n    <tr style=\"text-align: right;\">\n      <th></th>\n      <th>sentence</th>\n      <th>entity_01</th>\n      <th>entity_02</th>\n      <th>label</th>\n    </tr>\n  </thead>\n  <tbody>\n    <tr>\n      <th>0</th>\n      <td>97 년 10 월 8 일 부터 12 월 11 일 까지 경쟁 한 &lt; 그대 나 를 부 ...</td>\n      <td>성준기</td>\n      <td>숨은 그림 찾기</td>\n      <td>22</td>\n    </tr>\n    <tr>\n      <th>2</th>\n      <td>패트리스 러셴 ( Patrice Rushen , 1954 년 9 월 30 일 ~ ...</td>\n      <td>패트리스 러셴</td>\n      <td>작곡가</td>\n      <td>2</td>\n    </tr>\n    <tr>\n      <th>3</th>\n      <td>고려 는 1369 년 ( 고려 공민왕 18 ) 부터 명나라 와 외교 관계 를 맺 ...</td>\n      <td>고려 공민왕</td>\n      <td>고려</td>\n      <td>7</td>\n    </tr>\n    <tr>\n      <th>4</th>\n      <td>황성민 ( 1991 년 6 월 23 일 ~ ) 는 대한민국 의 축구 선수 이 며 ...</td>\n      <td>황성민</td>\n      <td>대한민국</td>\n      <td>26</td>\n    </tr>\n    <tr>\n      <th>5</th>\n      <td>1946년 10 월 1 일 , 일제 잔재 청산 에 따라 운니동 으로 명칭 환원</td>\n      <td>운니동</td>\n      <td>1946년</td>\n      <td>33</td>\n    </tr>\n    <tr>\n      <th>...</th>\n      <td>...</td>\n      <td>...</td>\n      <td>...</td>\n      <td>...</td>\n    </tr>\n    <tr>\n      <th>280506</th>\n      <td>월트 디즈니 컴퍼니 산하의 ABC 스튜디오가 제작여 ABC 계열에서 방송되고 있으며...</td>\n      <td>ABC 스튜디오</td>\n      <td>월트 디즈니 컴퍼니</td>\n      <td>15</td>\n    </tr>\n    <tr>\n      <th>280507</th>\n      <td>이 중 민태호 는 민겸호 , 민승호 , 민규호 가 죽 은 뒤 민 씨 척신 세력 의 ...</td>\n      <td>민영목</td>\n      <td>명성황후</td>\n      <td>11</td>\n    </tr>\n    <tr>\n      <th>280508</th>\n      <td>독일 에서 이주 한 개신교 집 에서 태어났 으며 , 그 의 이름 은 19 세기 미국...</td>\n      <td>다윗</td>\n      <td>연합 이스라엘 왕국</td>\n      <td>7</td>\n    </tr>\n    <tr>\n      <th>280509</th>\n      <td>2008 년 4 월 4 일 한화 이글스 의 내야수 부족 과 삼성 라이온즈  포수 현...</td>\n      <td>현재윤</td>\n      <td>포수</td>\n      <td>2</td>\n    </tr>\n    <tr>\n      <th>280510</th>\n      <td>명나라 ( 明 ) 정덕제 ( 武宗 正德帝 ) 14 년</td>\n      <td>정덕제</td>\n      <td>명나라</td>\n      <td>7</td>\n    </tr>\n  </tbody>\n</table>\n<p>280510 rows × 4 columns</p>\n</div>"
     },
     "execution_count": 10,
     "metadata": {},
     "output_type": "execute_result"
    }
   ],
   "source": [
    "boddin_add_cut.drop([1])"
   ],
   "metadata": {
    "collapsed": false,
    "pycharm": {
     "name": "#%%\n"
    }
   }
  },
  {
   "cell_type": "code",
   "execution_count": 11,
   "outputs": [
    {
     "data": {
      "text/plain": "                                            sentence entity_01 entity_02  \\\n0  97 년 10 월 8 일 부터 12 월 11 일 까지 경쟁 한 < 그대 나 를 부 ...       성준기  숨은 그림 찾기   \n1  살바토레 시리구(, 1987년 1월 12일, 누오로 ~ ) 는 이탈리아의 축구 선수...    토리노 FC     세리에 A   \n2   패트리스 러셴 ( Patrice Rushen , 1954 년 9 월 30 일 ~ ...   패트리스 러셴       작곡가   \n3   고려 는 1369 년 ( 고려 공민왕 18 ) 부터 명나라 와 외교 관계 를 맺 ...    고려 공민왕        고려   \n4   황성민 ( 1991 년 6 월 23 일 ~ ) 는 대한민국 의 축구 선수 이 며 ...       황성민      대한민국   \n5       1946년 10 월 1 일 , 일제 잔재 청산 에 따라 운니동 으로 명칭 환원        운니동     1946년   \n\n   label  \n0     22  \n1     15  \n2      2  \n3      7  \n4     26  \n5     33  ",
      "text/html": "<div>\n<style scoped>\n    .dataframe tbody tr th:only-of-type {\n        vertical-align: middle;\n    }\n\n    .dataframe tbody tr th {\n        vertical-align: top;\n    }\n\n    .dataframe thead th {\n        text-align: right;\n    }\n</style>\n<table border=\"1\" class=\"dataframe\">\n  <thead>\n    <tr style=\"text-align: right;\">\n      <th></th>\n      <th>sentence</th>\n      <th>entity_01</th>\n      <th>entity_02</th>\n      <th>label</th>\n    </tr>\n  </thead>\n  <tbody>\n    <tr>\n      <th>0</th>\n      <td>97 년 10 월 8 일 부터 12 월 11 일 까지 경쟁 한 &lt; 그대 나 를 부 ...</td>\n      <td>성준기</td>\n      <td>숨은 그림 찾기</td>\n      <td>22</td>\n    </tr>\n    <tr>\n      <th>1</th>\n      <td>살바토레 시리구(, 1987년 1월 12일, 누오로 ~ ) 는 이탈리아의 축구 선수...</td>\n      <td>토리노 FC</td>\n      <td>세리에 A</td>\n      <td>15</td>\n    </tr>\n    <tr>\n      <th>2</th>\n      <td>패트리스 러셴 ( Patrice Rushen , 1954 년 9 월 30 일 ~ ...</td>\n      <td>패트리스 러셴</td>\n      <td>작곡가</td>\n      <td>2</td>\n    </tr>\n    <tr>\n      <th>3</th>\n      <td>고려 는 1369 년 ( 고려 공민왕 18 ) 부터 명나라 와 외교 관계 를 맺 ...</td>\n      <td>고려 공민왕</td>\n      <td>고려</td>\n      <td>7</td>\n    </tr>\n    <tr>\n      <th>4</th>\n      <td>황성민 ( 1991 년 6 월 23 일 ~ ) 는 대한민국 의 축구 선수 이 며 ...</td>\n      <td>황성민</td>\n      <td>대한민국</td>\n      <td>26</td>\n    </tr>\n    <tr>\n      <th>5</th>\n      <td>1946년 10 월 1 일 , 일제 잔재 청산 에 따라 운니동 으로 명칭 환원</td>\n      <td>운니동</td>\n      <td>1946년</td>\n      <td>33</td>\n    </tr>\n  </tbody>\n</table>\n</div>"
     },
     "execution_count": 11,
     "metadata": {},
     "output_type": "execute_result"
    }
   ],
   "source": [
    "boddin_add_cut.loc[0:5]"
   ],
   "metadata": {
    "collapsed": false,
    "pycharm": {
     "name": "#%%\n"
    }
   }
  },
  {
   "cell_type": "code",
   "execution_count": 34,
   "outputs": [
    {
     "name": "stdout",
     "output_type": "stream",
     "text": [
      "[199853, 199864, 199869, 199873, 199879, 199901, 199912, 199919, 199922, 199923, 199954, 199956, 199987, 200006, 200026, 200032, 200055, 200059, 200062, 200076, 200093, 200108, 200120, 200134, 200162, 200173, 200175, 200211, 200228, 200236, 200245, 200251, 200258, 200273, 200280, 200312, 200320, 200326, 200330, 200369, 200374, 200398, 200405, 200414, 200434, 200475, 200503, 200505, 200509, 200511, 200520, 200522, 200535, 200570, 200578, 200593, 200613, 200656, 200666, 200670, 200671, 200677, 200678, 200682, 200694, 200696, 200697, 200702, 200704, 200706, 200725, 200734, 200735, 200742, 200745, 200748, 200765, 200771, 200778, 200782, 200784, 200793, 200819, 200821, 200823, 200830, 200837, 200849, 200852, 200853, 200857, 200859, 200860, 200864, 200890, 200894, 200898, 200900, 200901, 200913, 200931, 200935, 200938, 200940, 200943, 200968, 200974, 200975, 200977, 200978, 200993, 200994, 200997, 200999, 201005, 201007, 201013, 201025, 201028, 201030, 201034, 201049, 201051, 201056, 201057, 201067, 201069, 201078, 201104, 201122, 201162, 201172, 201182, 201213, 201220, 201242, 201243, 201249, 201256, 201268, 201277, 201286, 201288, 201296, 201311, 201313, 201321, 201323, 201329, 201345, 201353, 201356, 201371, 201386, 201388, 201389, 201395, 201432, 201437, 201446, 201460, 201462, 201475, 201507, 201524, 201528, 201538, 201556, 201557, 201558, 201565, 201578, 201588, 201610, 201616, 201621, 201624, 201629, 201636, 201640, 201645, 201654, 201679, 201681, 201693, 201695, 201701, 201711, 201729, 201746, 201749, 201752, 201770, 201783, 201797, 201804, 201838, 201845, 201855, 201882, 201890, 201891, 201893, 201912, 201922, 201946, 201961, 201964, 201978, 201993, 202005, 202007, 202021, 202044, 202066, 202078, 202080, 202087, 202095, 202096, 202099, 202107, 202116, 202117, 202118, 202119, 202129, 202134, 202135, 202143, 202150, 202157, 202159, 202162, 202170, 202199, 202207, 202208, 202221, 202224, 202239, 202256, 202273, 202275, 202280, 202290, 202294, 202308, 202315, 202321, 202323, 202334, 202338, 202350, 202352, 202369, 202377, 202394, 202399, 202402, 202409, 202412, 202414, 202429, 202441, 202460, 202469, 202480, 202483, 202489, 202492, 202494, 202499, 202505, 202509, 202514, 202520, 202522, 202525, 202532, 202537, 202551, 202568, 202584, 202585, 202597, 202598, 202620, 202637, 202642, 202649, 202650, 202654, 202665, 202667, 202669, 202714, 202744, 202772, 202785, 202790, 202812, 202816, 202832, 202846, 202851, 202861, 202869, 202871, 202895, 202904, 202908, 202917, 202923, 202941, 202946, 202963, 202965, 202968, 202983, 202995, 203002, 203031, 203037, 203038, 203052, 203070, 203075, 203097, 203103, 203113, 203115, 203116, 203123, 203135, 203136, 203139, 203173, 203176, 203203, 203208, 203211, 203237, 203246, 203248, 203273, 203281, 203283, 203295, 203303, 203316, 203320, 203333, 203335, 203351, 203354, 203360, 203403, 203423, 203435, 203436, 203457, 203459, 203460, 203462, 203468, 203481, 203487, 203492, 203497, 203498, 203501, 203506, 203516, 203524, 203531, 203540, 203546, 203560, 203562, 203568, 203569, 203572, 203586, 203605, 203623, 203625, 203643, 203651, 203657, 203670, 203681, 203708, 203716, 203723, 203732, 203740, 203751, 203784, 203791, 203843, 203852, 203856, 203869, 203870, 203874, 203885, 203901, 203909, 203916, 203933, 203942, 203945, 203973, 203983, 203989, 203991, 204003, 204004, 204013, 204019, 204036, 204039, 204051, 204066, 204071, 204074, 204076, 204077, 204086, 204114, 204115, 204129, 204136, 204140, 204152, 204153, 204177, 204179, 204180, 204185, 204186, 204187, 204189, 204193, 204203, 204212, 204213, 204219, 204220, 204225, 204227, 204229, 204241, 204263, 204266, 204283, 204287, 204297, 204299, 204314, 204315, 204323, 204326, 204331, 204355, 204360, 204368, 204386, 204391, 204422, 204425, 204426, 204466, 204470, 204507, 204526, 204535, 204543, 204579, 204592, 204603, 204631, 204636, 204639, 204650, 204652, 204664, 204679, 204697, 204704, 204705, 204708, 204716, 204720, 204735, 204736, 204749, 204772, 204774, 204781, 204784, 204789, 204790, 204792, 204794, 204796, 204797, 204814, 204821, 204824, 204838, 204840, 204848, 204883, 204890, 204896, 204898, 204907, 204913, 204930, 204947, 204956, 204966, 204970, 204998, 205002, 205005, 205010, 205016, 205027, 205036, 205049, 205069, 205081, 205084, 205089, 205112, 205131, 205136, 205145, 205166, 205191, 205194, 205203, 205219, 205223, 205228, 205236, 205237, 205247, 205260, 205272, 205281, 205303, 205377, 205381, 205405, 205412, 205427, 205433, 205434, 205449, 205460, 205461, 205477, 205485, 205487, 205493, 205498, 205503, 205508, 205509, 205522, 205529, 205534, 205542, 205548, 205554, 205566, 205570, 205571, 205579, 205586, 205602, 205609, 205610, 205613, 205634, 205639, 205640, 205652, 205673, 205707, 205715, 205717, 205725, 205756, 205764, 205773, 205776, 205781, 205785, 205806, 205812, 205814, 205820, 205821, 205832, 205844, 205860, 205861, 205866, 205870, 205873, 205877, 205889, 205898, 205901, 205902, 205916, 205917, 205942, 205952, 205956, 205986, 206002, 206006, 206007, 206032, 206038, 206040, 206048, 206055, 206079, 206085, 206086, 206087, 206094, 206097, 206128, 206144, 206148, 206153, 206158, 206164, 206192, 206198, 206207, 206240, 206246, 206257, 206260, 206277, 206291, 206304, 206312, 206321, 206329, 206333, 206340, 206348, 206454, 206464, 206470, 206472, 206482, 206484, 206485, 206487, 206494, 206497, 206501, 206504, 206508, 206522, 206541, 206543, 206561, 206569, 206575, 206580, 206587, 206592, 206598, 206608, 206613, 206615, 206659, 206660, 206661, 206671, 206687, 206689, 206695, 206698, 206705, 206717, 206720, 206722, 206725, 206731, 206767, 206770, 206775, 206806, 206821, 206828, 206829, 206830, 206832, 206845, 206857, 206863, 206869, 206874, 206875, 206885, 206898, 206908, 206914, 206915, 206916, 206931, 206941, 206946, 206948, 206951, 206953, 206977, 206987, 206988, 207022, 207045, 207052, 207084, 207086, 207087, 207091, 207120, 207131, 207140, 207149, 207151, 207176, 207177, 207178, 207179, 207198, 207204, 207208, 207209, 207211, 207216, 207219, 207236, 207253, 207254, 207263, 207271, 207282, 207286, 207291, 207310, 207322, 207324, 207342, 207365, 207382, 207390, 207404, 207406, 207425, 207458, 207475, 207477, 207480, 207491, 207492, 207511, 207517, 207524, 207552, 207560, 207569, 207595, 207607, 207622, 207624, 207633, 207651, 207674, 207683, 207735, 207740, 207744, 207749, 207756, 207774, 207778, 207790, 207791, 207803, 207818, 207835, 207848, 207850, 207862, 207876, 207877, 207881, 207882, 207884, 207895, 207902, 207928, 207945, 207954, 207961, 207963, 208001, 208014, 208050, 208052, 208053, 208057, 208077, 208085, 208094, 208112, 208113, 208115, 208124, 208133, 208134, 208139, 208140, 208145, 208170, 208181, 208186, 208210, 208211, 208213, 208217, 208223, 208228, 208229, 208250, 208284, 208291, 208309, 208315, 208317, 208328, 208339, 208340, 208343, 208345, 208350, 208379, 208387, 208389, 208403, 208407, 208430, 208440, 208471, 208483, 208485, 208528, 208534, 208537, 208542, 208543, 208557, 208558, 208568, 208569, 208588, 208609, 208624, 208629, 208633, 208640, 208659, 208707, 208722, 208743, 208763, 208773, 208813, 208818, 208824, 208827, 208881, 208882, 208886, 208923, 208948, 208950, 208957, 208973, 208977, 208978, 208986, 209016, 209039, 209044, 209046, 209069, 209075, 209095, 209100, 209107, 209112, 209121, 209122, 209123, 209154, 209171, 209180, 209206, 209210, 209214, 209215, 209223, 209238, 209239, 209273, 209277, 209287, 209290, 209294, 209350, 209351, 209356, 209357, 209360, 209374, 209376, 209407, 209410, 209441, 209447, 209448, 209454, 209462, 209472, 209485, 209492, 209503, 209511, 209521, 209541, 209555, 209558, 209566, 209569, 209579, 209582, 209589, 209591, 209593, 209597, 209664, 209675, 209693, 209722, 209727, 209736, 209741, 209755, 209758, 209796, 209801, 209804, 209805, 209810, 209812, 209822, 209823, 209846, 209852, 209853, 209878, 209900, 209911, 209921, 209926, 209928, 209938, 209939, 209943, 209954, 209960, 209965, 209989, 209990, 210003, 210006, 210062, 210064, 210069, 210077, 210092, 210099, 210104, 210110, 210141, 210173, 210179, 210181, 210196, 210198, 210211, 210225, 210239, 210243, 210250, 210256, 210271, 210295, 210308, 210318, 210326, 210339, 210353, 210380, 210386, 210389, 210397, 210404, 210405, 210406, 210415, 210435, 210445, 210447, 210477, 210490, 210499, 210500, 210502, 210511, 210517, 210550, 210572, 210578, 210595, 210597, 210600, 210614, 210651, 210668, 210685, 210692, 210697, 210705, 210706, 210707, 210708, 210717, 210718, 210719, 210754, 210765, 210776, 210783, 210824, 210833, 210839, 210851, 210869, 210886, 210894, 210896, 210898, 210918, 210923, 210938, 210954, 210972, 210980, 210991, 211009, 211042, 211043, 211050, 211057, 211076, 211077, 211092, 211094, 211109, 211125, 211139, 211141, 211145, 211148, 211174, 211189, 211190, 211192, 211193, 211207, 211208, 211222, 211229, 211232, 211243, 211250, 211252, 211254, 211262, 211269, 211300, 211306, 211311, 211312, 211329, 211333, 211342, 211348, 211361, 211362, 211377, 211379, 211410, 211412, 211416, 211452, 211492, 211493, 211512, 211524, 211543, 211554, 211584, 211589, 211608, 211614, 211619, 211622, 211626, 211631, 211667, 211692, 211700, 211701, 211715, 211716, 211726, 211729, 211732, 211755, 211759, 211762, 211775, 211787, 211808, 211815, 211829, 211831, 211851, 211855, 211860, 211864, 211871, 211887, 211889, 211901, 211915, 211939, 211944, 211952, 211979, 211994, 211995, 211999, 212009, 212016, 212023, 212030, 212033, 212063, 212070, 212077, 212086, 212092, 212102, 212104, 212125, 212131, 212135, 212140, 212145, 212152, 212158, 212169, 212174, 212181, 212199, 212205, 212214, 212226, 212248, 212256, 212262, 212263, 212271, 212273, 212276, 212296, 212313, 212315, 212328, 212331, 212332, 212355, 212358, 212366, 212399, 212429, 212455, 212466, 212472, 212474, 212483, 212484, 212489, 212499, 212531, 212534, 212540, 212559, 212563, 212574, 212587, 212588, 212591, 212594, 212609, 212612, 212617, 212640, 212657, 212680, 212681, 212729, 212749, 212773, 212787, 212791, 212806, 212844, 212847, 212849, 212857, 212859, 212873, 212943, 212948, 212958, 212959, 212963, 212964, 212969, 212971, 212979, 212980, 212990, 213010, 213049, 213058, 213059, 213067, 213077, 213088, 213091, 213097, 213107, 213108, 213110, 213122, 213124, 213126, 213132, 213142, 213157, 213159, 213160, 213167, 213195, 213198, 213204, 213206, 213237, 213241, 213245, 213258, 213259, 213264, 213280, 213281, 213304, 213307, 213319, 213336, 213346, 213348, 213363, 213369, 213393, 213395, 213396, 213401, 213407, 213411, 213418, 213420, 213449, 213452, 213454, 213456, 213461, 213463, 213471, 213473, 213507, 213519, 213527, 213562, 213578, 213588, 213616, 213623, 213624, 213626, 213636, 213638, 213662, 213677, 213682, 213698, 213721, 213724, 213753, 213787, 213789, 213790, 213805, 213829, 213846, 213868, 213876, 213877, 213903, 213904, 213914, 213916, 213918, 213929, 213939, 213941, 213946, 213954, 213957, 213977, 213984, 213997, 214035, 214058, 214059, 214070, 214083, 214144, 214151, 214158, 214179, 214184, 214195, 214206, 214212, 214213, 214221, 214227, 214229, 214230, 214234, 214236, 214242, 214243, 214244, 214251, 214268, 214274, 214306, 214317, 214322, 214333, 214334, 214335, 214345, 214351, 214370, 214383, 214420, 214423, 214426, 214443, 214450, 214454, 214456, 214460, 214461, 214470, 214471, 214476, 214491, 214492, 214520, 214524, 214528, 214538, 214567, 214586, 214589, 214590, 214591, 214592, 214594, 214602, 214611, 214615, 214616, 214634, 214643, 214647, 214648, 214657, 214676, 214695, 214701, 214708, 214716, 214719, 214724, 214727, 214736, 214771, 214772, 214776, 214789, 214791, 214806, 214820, 214825, 214826, 214827, 214834, 214843, 214856, 214873, 214887, 214896, 214913, 214938, 214951, 214954, 214960, 214961, 214998, 215003, 215008, 215010, 215016, 215030, 215045, 215050, 215067, 215068, 215083, 215103, 215109, 215110, 215112, 215123, 215124, 215136, 215140, 215143, 215179, 215189, 215197, 215198, 215205, 215208, 215209, 215236, 215238, 215245, 215247, 215251, 215252, 215273, 215284, 215291, 215315, 215316, 215319, 215325, 215350, 215354, 215369, 215371, 215383, 215409, 215411, 215425, 215431, 215445, 215452, 215459, 215462, 215466, 215471, 215492, 215505, 215520, 215525, 215528, 215531, 215535, 215558, 215568, 215578, 215579, 215580, 215586, 215588, 215592, 215612, 215615, 215619, 215622, 215671, 215675, 215680, 215681, 215686, 215697, 215704, 215707, 215710, 215712, 215720, 215727, 215733, 215746, 215750, 215751, 215752, 215755, 215757, 215762, 215767, 215769, 215773, 215781, 215783, 215790, 215791, 215806, 215819, 215824, 215830, 215831, 215838, 215841, 215843, 215882, 215890, 215921, 215951, 215987, 215994, 216028, 216034, 216051, 216054, 216069, 216079, 216084, 216087, 216097, 216100, 216112, 216116, 216121, 216127, 216128, 216146, 216154, 216163, 216166, 216171, 216174, 216178, 216187, 216190, 216196, 216208, 216217, 216223, 216227, 216229, 216233, 216262, 216268, 216270, 216275, 216282, 216285, 216290, 216311, 216317, 216320, 216324, 216344, 216352, 216367, 216382, 216396, 216409, 216412, 216419, 216421, 216425, 216445, 216462, 216466, 216473, 216480, 216485, 216492, 216493, 216494, 216498, 216518, 216519, 216523, 216553, 216563, 216597, 216631, 216649, 216652, 216656, 216676, 216687, 216689, 216691, 216692, 216695, 216697, 216698, 216708, 216713, 216719, 216726, 216749, 216751, 216769, 216777, 216778, 216779, 216780, 216812, 216814, 216819, 216846, 216857, 216862, 216864, 216869, 216895, 216899, 216910, 216928, 216929, 216942, 216943, 216949, 216960, 216968, 216971, 216978, 216982, 216984, 216989, 216995, 216997, 217002, 217006, 217032, 217044, 217072, 217075, 217084, 217088, 217090, 217094, 217101, 217109, 217112, 217128, 217129, 217130, 217134, 217155, 217157, 217166, 217168, 217175, 217177, 217180, 217191, 217203, 217210, 217215, 217246, 217250, 217261, 217271, 217284, 217294, 217297, 217304, 217317, 217326, 217345, 217359, 217380, 217393, 217395, 217397, 217402, 217408, 217414, 217418, 217419, 217429, 217434, 217436, 217437, 217438, 217441, 217442, 217443, 217445, 217451, 217456, 217461, 217486, 217492, 217503, 217512, 217524, 217528, 217536, 217543, 217560, 217567, 217580, 217582, 217586, 217595, 217596, 217613, 217615, 217617, 217624, 217635, 217676, 217678, 217695, 217696, 217697, 217710, 217714, 217722, 217723, 217726, 217737, 217746, 217778, 217784, 217788, 217795, 217797, 217803, 217827, 217828, 217829, 217834, 217836, 217841, 217846, 217856, 217866, 217884, 217893, 217898, 217905, 217926, 217928, 217966, 217969, 217973, 217977, 217988, 218018, 218039, 218045, 218047, 218048, 218050, 218053, 218059, 218063, 218074, 218075, 218078, 218108, 218125, 218153, 218158, 218160, 218164, 218175, 218177, 218208, 218220, 218235, 218257, 218258, 218265, 218274, 218281, 218287, 218293, 218306, 218310, 218313, 218330, 218332, 218361, 218366, 218387, 218393, 218401, 218403, 218409, 218442, 218448, 218451, 218467, 218481, 218489, 218520, 218528, 218536, 218553, 218556, 218577, 218585, 218588, 218620, 218630, 218634, 218646, 218666, 218682, 218683, 218716, 218729, 218731, 218739, 218781, 218782, 218789, 218792, 218793, 218798, 218816, 218818, 218821, 218838, 218839, 218841, 218842, 218848, 218853, 218872, 218912, 218920, 218959, 218967, 218970, 218978, 218980, 218988, 218991, 219008, 219028, 219055, 219061, 219075, 219077, 219083, 219087, 219093, 219098, 219106, 219107, 219113, 219121, 219127, 219139, 219155, 219159, 219170, 219178, 219229, 219231, 219254, 219271, 219278, 219279, 219288, 219296, 219304, 219311, 219316, 219318, 219322, 219340, 219343, 219352, 219357, 219377, 219391, 219395, 219408, 219424, 219426, 219428, 219440, 219457, 219460, 219471, 219503, 219512, 219530, 219543, 219563, 219569, 219575, 219577, 219592, 219613, 219616, 219617, 219621, 219623, 219631, 219641, 219644, 219645, 219646, 219667, 219672, 219690, 219724, 219735, 219742, 219745, 219748, 219767, 219777, 219792, 219793, 219799, 219800, 219810, 219811, 219819, 219824, 219828, 219838, 219846, 219853, 219857, 219861, 219881, 219898, 219905, 219908, 219910, 219911, 219919, 219947, 219960, 219962, 219968, 219969, 219970, 219974, 219978, 219989, 219991, 219994, 219995, 220019, 220036, 220086, 220097, 220099, 220102, 220116, 220125, 220132, 220133, 220134, 220135, 220142, 220152, 220169, 220178, 220183, 220188, 220191, 220203, 220206, 220237, 220240, 220241, 220254, 220289, 220297, 220308, 220334, 220345, 220348, 220359, 220363, 220368, 220371, 220373, 220374, 220387, 220388, 220390, 220397, 220403, 220418, 220419, 220429, 220445, 220464, 220467, 220476, 220516, 220539, 220559, 220567, 220591, 220594, 220608, 220611, 220625, 220631, 220638, 220639, 220649, 220661, 220683, 220693, 220701, 220708, 220714, 220719, 220721, 220732, 220737, 220747, 220759, 220769, 220781, 220782, 220805, 220815, 220829, 220836, 220864, 220875, 220879, 220897, 220900, 220901, 220906, 220910, 220913, 220920, 220922, 220950, 220951, 220964, 220969, 220970, 220996, 221000, 221012, 221013, 221023, 221041, 221044, 221049, 221060, 221071, 221078, 221094, 221100, 221106, 221112, 221113, 221120, 221131, 221138, 221145, 221160, 221162, 221170, 221192, 221238, 221243, 221263, 221293, 221300, 221301, 221302, 221323, 221324, 221339, 221343, 221352, 221356, 221362, 221370, 221391, 221392, 221395, 221399, 221405, 221408, 221419, 221420, 221423, 221427, 221437, 221439, 221441, 221466, 221507, 221514, 221534, 221542, 221559, 221574, 221580, 221581, 221585, 221608, 221620, 221626, 221631, 221636, 221638, 221642, 221645, 221665, 221700, 221708, 221720, 221725, 221728, 221730, 221745, 221752, 221760, 221767, 221771, 221783, 221821, 221823, 221833, 221840, 221851, 221855, 221858, 221861, 221866, 221894, 221909, 221928, 221956, 221973, 222005, 222009, 222046, 222052, 222070, 222083, 222106, 222122, 222123, 222130, 222135, 222139, 222145, 222165, 222168, 222181, 222188, 222204, 222207, 222212, 222215, 222224, 222226, 222249, 222260, 222263, 222266, 222268, 222277, 222282, 222287, 222289, 222294, 222305, 222306, 222331, 222336, 222337, 222341, 222346, 222355, 222368, 222398, 222400, 222412, 222413, 222416, 222423, 222449, 222467, 222476, 222480, 222502, 222530, 222532, 222549, 222563, 222568, 222571, 222574, 222577, 222580, 222585, 222600, 222602, 222628, 222650, 222651, 222661, 222671, 222691, 222700, 222705, 222707, 222718, 222721, 222722, 222723, 222743, 222744, 222758, 222764, 222789, 222802, 222813, 222815, 222835, 222839, 222849, 222857, 222883, 222894, 222906, 222908, 222933, 222954, 222962, 222968, 222978, 222992, 223001, 223014, 223047, 223049, 223061, 223065, 223080, 223090, 223091, 223097, 223105, 223116, 223120, 223123, 223128, 223148, 223169, 223187, 223192, 223198, 223199, 223208, 223213, 223220, 223253, 223263, 223269, 223271, 223276, 223284, 223295, 223313, 223324, 223329, 223334, 223338, 223365, 223366, 223369, 223378, 223406, 223409, 223418, 223424, 223428, 223464, 223482, 223485, 223497, 223498, 223524, 223526, 223529, 223549, 223553, 223571, 223578, 223581, 223599, 223614, 223619, 223632, 223635, 223659, 223666, 223674, 223682, 223683, 223695, 223702, 223725, 223731, 223762, 223802, 223806, 223812, 223814, 223830, 223840, 223861, 223881, 223886, 223892, 223908, 223914, 223930, 223932, 223953, 223957, 223974, 224021, 224042, 224076, 224079, 224101, 224104, 224112, 224120, 224130, 224144, 224147, 224148, 224167, 224177, 224192, 224217, 224231, 224262, 224318, 224328, 224339, 224370, 224414, 224422, 224430, 224431, 224435, 224441, 224443, 224445, 224446, 224453, 224455, 224457, 224470, 224480, 224489, 224493, 224497, 224520, 224524, 224529, 224530, 224564, 224582, 224599, 224614, 224617, 224628, 224636, 224637, 224652, 224659, 224672, 224698, 224699, 224704, 224722, 224727, 224728, 224745, 224747, 224751, 224756, 224790, 224791, 224810, 224819, 224825, 224826, 224877, 224890, 224909, 224919, 224923, 224937, 224938, 224939, 224956, 224966, 224967, 224970, 224972, 224978, 224992, 225012, 225046, 225067, 225079, 225090, 225095, 225098, 225099, 225101, 225104, 225127, 225134, 225143, 225156, 225160, 225167, 225176, 225181, 225188, 225191, 225195, 225203, 225207, 225225, 225236, 225238, 225239, 225261, 225265, 225272, 225279, 225283, 225288, 225326, 225353, 225357, 225360, 225361, 225369, 225373, 225376, 225385, 225388, 225413, 225442, 225454, 225459, 225464, 225466, 225468, 225479, 225484, 225485, 225504, 225520, 225546, 225549, 225560, 225569, 225570, 225575, 225581, 225586, 225597, 225598, 225600, 225626, 225628, 225633, 225673, 225679, 225693, 225695, 225700, 225704, 225724, 225726, 225740, 225754, 225766, 225772, 225777, 225780, 225802, 225822, 225853, 225866, 225872, 225880, 225888, 225916, 225929, 225940, 225950, 225960, 225974, 225983, 226005, 226009, 226013, 226028, 226050, 226056, 226075, 226077, 226083, 226107, 226118, 226137, 226149, 226150, 226155, 226202, 226216, 226233, 226250, 226253, 226259, 226261, 226268, 226269, 226270, 226287, 226297, 226301, 226309, 226322, 226329, 226337, 226346, 226348, 226351, 226372, 226402, 226406, 226423, 226449, 226460, 226465, 226493, 226500, 226501, 226505, 226513, 226522, 226531, 226542, 226546, 226560, 226581, 226599, 226613, 226622, 226663, 226676, 226682, 226685, 226698, 226714, 226719, 226723, 226726, 226729, 226734, 226745, 226747, 226759, 226763, 226766, 226777, 226779, 226824, 226829, 226832, 226836, 226837, 226850, 226853, 226870, 226888, 226914, 226916, 226921, 226931, 226933, 226934, 226935, 226936, 226951, 226953, 226963, 226971, 226976, 226986, 227010, 227018, 227037, 227041, 227055, 227056, 227072, 227098, 227110, 227113, 227118, 227120, 227125, 227135, 227146, 227155, 227156, 227158, 227164, 227169, 227185, 227187, 227197, 227205, 227206, 227208, 227221, 227228, 227244, 227258, 227261, 227267, 227284, 227327, 227336, 227358, 227370, 227379, 227385, 227407, 227414, 227419, 227427, 227430, 227440, 227444, 227455, 227463, 227466, 227472, 227503, 227506, 227516, 227518, 227519, 227545, 227550, 227555, 227597, 227600, 227608, 227610, 227625, 227653, 227658, 227665, 227667, 227675, 227687, 227694, 227703, 227704, 227707, 227716, 227720, 227731, 227732, 227758, 227766, 227782, 227784, 227802, 227809, 227819, 227820, 227835, 227844, 227851, 227878, 227881, 227896, 227898, 227900, 227910, 227933, 227946, 227952, 227970, 227996, 228014, 228052, 228057, 228075, 228089, 228103, 228131, 228132, 228137, 228152, 228175, 228178, 228180, 228182, 228207, 228227, 228244, 228246, 228248, 228261, 228282, 228296, 228297, 228299, 228310, 228321, 228327, 228332, 228348, 228356, 228377, 228389, 228397, 228399, 228404, 228406, 228440, 228443, 228459, 228469, 228472, 228475, 228476, 228477, 228488, 228500, 228516, 228520, 228534, 228551, 228569, 228571, 228574, 228585, 228591, 228606, 228614, 228618, 228632, 228636, 228637, 228651, 228667, 228680, 228728, 228737, 228747, 228759, 228764, 228795, 228816, 228828, 228830, 228832, 228848, 228850, 228851, 228859, 228862, 228869, 228881, 228889, 228890, 228895, 228905, 228920, 228922, 228950, 228968, 228977, 228986, 228994, 228997, 229013, 229042, 229047, 229063, 229064, 229065, 229086, 229093, 229102, 229112, 229118, 229120, 229127, 229138, 229149, 229153, 229155, 229168, 229175, 229185, 229203, 229205, 229242, 229243, 229268, 229272, 229280, 229281, 229324, 229326, 229331, 229332, 229335, 229340, 229345, 229355, 229357, 229378, 229379, 229410, 229432, 229448, 229461, 229463, 229465, 229477, 229494, 229513, 229515, 229518, 229523, 229576, 229584, 229590, 229599, 229600, 229610, 229619, 229649, 229664, 229684, 229693, 229703, 229705, 229710, 229717, 229719, 229751, 229759, 229799, 229832, 229863, 229869, 229871, 229891, 229945, 229954, 229979, 229997, 230002, 230011, 230022, 230025, 230059, 230060, 230062, 230066, 230080, 230082, 230114, 230118, 230132, 230141, 230149, 230154, 230166, 230179, 230184, 230194, 230209, 230216, 230222, 230237, 230238, 230244, 230255, 230283, 230310, 230349, 230355, 230359, 230369, 230376, 230382, 230398, 230416, 230417, 230423, 230424, 230431, 230440]\n",
      "       sentence  entity_01  entity_02     ratio\n",
      "label                                          \n",
      "1         11205      11205      11205  0.093836\n",
      "2         18615      18615      18615  0.155890\n",
      "4           875        875        875  0.007328\n",
      "7         17850      17850      17850  0.149484\n",
      "8          4566       4566       4566  0.038238\n",
      "10        13779      13779      13779  0.115391\n",
      "11         9650       9650       9650  0.080813\n",
      "12          124        124        124  0.001038\n",
      "15         3436       3436       3436  0.028775\n",
      "17        10039      10039      10039  0.084071\n",
      "19         3402       3402       3402  0.028490\n",
      "21         5461       5461       5461  0.045733\n",
      "22         6601       6601       6601  0.055280\n",
      "26         5037       5037       5037  0.042182\n",
      "33         4757       4757       4757  0.039837\n",
      "37          551        551        551  0.004614\n",
      "38         1591       1591       1591  0.013324\n",
      "39          962        962        962  0.008056\n",
      "40          910        910        910  0.007621\n"
     ]
    },
    {
     "data": {
      "text/plain": "<Figure size 432x288 with 1 Axes>",
      "image/png": "[encoded data removed]"
     },
     "metadata": {
      "needs_background": "light"
     },
     "output_type": "display_data"
    }
   ],
   "source": [
    "count = 3000\n",
    "target = 26\n",
    "delete_list = []\n",
    "for index, (sentence, entity_01, entity_02, label) in boddin_add_cut.iterrows():\n",
    "    if label == target:\n",
    "        delete_list.append(index)\n",
    "        count -= 1\n",
    "    if count == 0:\n",
    "        boddin_add_cut = boddin_add_cut.drop(delete_list)\n",
    "        break\n",
    "print(delete_list)\n",
    "show_hist(boddin_add_cut)"
   ],
   "metadata": {
    "collapsed": false,
    "pycharm": {
     "name": "#%%\n"
    }
   }
  },
  {
   "cell_type": "code",
   "execution_count": 22,
   "outputs": [],
   "source": [
    "count = 4000\n",
    "target = 0\n",
    "delete_list = []\n",
    "for index, (sentence, entity_01, entity_02, label) in train_ori.iterrows():\n",
    "    if label == target:\n",
    "        delete_list.append(index)\n",
    "        count -= 1\n",
    "    if count == 0:\n",
    "        train_ori = train_ori.drop(delete_list)\n",
    "        break"
   ],
   "metadata": {
    "collapsed": false,
    "pycharm": {
     "name": "#%%\n"
    }
   }
  },
  {
   "cell_type": "code",
   "execution_count": 23,
   "outputs": [
    {
     "data": {
      "text/plain": "<AxesSubplot:xlabel='label', ylabel='Count'>"
     },
     "execution_count": 23,
     "metadata": {},
     "output_type": "execute_result"
    },
    {
     "data": {
      "text/plain": "<Figure size 432x288 with 1 Axes>",
      "image/png": "[encoded data removed]"
     },
     "metadata": {
      "needs_background": "light"
     },
     "output_type": "display_data"
    }
   ],
   "source": [
    "train_ori_temp = copy.deepcopy(train_ori)\n",
    "train_ratio_temp = train_ori_temp.groupby('label').count()\n",
    "train_ratio_temp['ratio'] = train_ratio_temp['sentence'] / len(train_ori_temp)\n",
    "sns.histplot(train_ori_temp['label'])"
   ],
   "metadata": {
    "collapsed": false,
    "pycharm": {
     "name": "#%%\n"
    }
   }
  },
  {
   "cell_type": "code",
   "execution_count": 24,
   "outputs": [
    {
     "name": "stdout",
     "output_type": "stream",
     "text": [
      "       sentence  entity_01  entity_02   ratio\n",
      "label                                        \n",
      "0           438        438        438  0.0876\n",
      "1            92         92         92  0.0184\n",
      "2           553        553        553  0.1106\n",
      "3            44         44         44  0.0088\n",
      "4           679        679        679  0.1358\n",
      "5           186        186        186  0.0372\n",
      "6           231        231        231  0.0462\n",
      "7           209        209        209  0.0418\n",
      "8           164        164        164  0.0328\n",
      "9           115        115        115  0.0230\n",
      "10          815        815        815  0.1630\n",
      "11           58         58         58  0.0116\n",
      "12           45         45         45  0.0090\n",
      "13           11         11         11  0.0022\n",
      "14           45         45         45  0.0090\n",
      "15          335        335        335  0.0670\n",
      "16           23         23         23  0.0046\n",
      "17          169        169        169  0.0338\n",
      "18            7          7          7  0.0014\n",
      "19            4          4          4  0.0008\n",
      "20          136        136        136  0.0272\n",
      "21           84         84         84  0.0168\n",
      "22           56         56         56  0.0112\n",
      "23           79         79         79  0.0158\n",
      "24          103        103        103  0.0206\n",
      "25           52         52         52  0.0104\n",
      "26            8          8          8  0.0016\n",
      "27           36         36         36  0.0072\n",
      "28            9          9          9  0.0018\n",
      "29            5          5          5  0.0010\n",
      "30           12         12         12  0.0024\n",
      "31           15         15         15  0.0030\n",
      "32           26         26         26  0.0052\n",
      "33           67         67         67  0.0134\n",
      "34           15         15         15  0.0030\n",
      "35           27         27         27  0.0054\n",
      "36           11         11         11  0.0022\n",
      "37            3          3          3  0.0006\n",
      "38           18         18         18  0.0036\n",
      "39            9          9          9  0.0018\n",
      "40            1          1          1  0.0002\n",
      "41            5          5          5  0.0010\n"
     ]
    }
   ],
   "source": [
    "print(train_ratio)"
   ],
   "metadata": {
    "collapsed": false,
    "pycharm": {
     "name": "#%%\n"
    }
   }
  },
  {
   "cell_type": "code",
   "execution_count": 37,
   "outputs": [
    {
     "name": "stdout",
     "output_type": "stream",
     "text": [
      "       sentence  entity_01  entity_02     ratio\n",
      "label                                          \n",
      "0          4438       4438       4438  0.034561\n",
      "1         11297      11297      11297  0.087975\n",
      "2         19168      19168      19168  0.149271\n",
      "3            44         44         44  0.000343\n",
      "4          1554       1554       1554  0.012102\n",
      "5           186        186        186  0.001448\n",
      "6           231        231        231  0.001799\n",
      "7         18059      18059      18059  0.140634\n",
      "8          4730       4730       4730  0.036835\n",
      "9           115        115        115  0.000896\n",
      "10        14594      14594      14594  0.113651\n",
      "11         9708       9708       9708  0.075601\n",
      "12          169        169        169  0.001316\n",
      "13           11         11         11  0.000086\n",
      "14           45         45         45  0.000350\n",
      "15         3771       3771       3771  0.029367\n",
      "16           23         23         23  0.000179\n",
      "17        10208      10208      10208  0.079495\n",
      "18            7          7          7  0.000055\n",
      "19         3406       3406       3406  0.026524\n",
      "20          136        136        136  0.001059\n",
      "21         5545       5545       5545  0.043182\n",
      "22         6657       6657       6657  0.051841\n",
      "23           79         79         79  0.000615\n",
      "24          103        103        103  0.000802\n",
      "25           52         52         52  0.000405\n",
      "26         5045       5045       5045  0.039288\n",
      "27           36         36         36  0.000280\n",
      "28            9          9          9  0.000070\n",
      "29            5          5          5  0.000039\n",
      "30           12         12         12  0.000093\n",
      "31           15         15         15  0.000117\n",
      "32           26         26         26  0.000202\n",
      "33         4824       4824       4824  0.037567\n",
      "34           15         15         15  0.000117\n",
      "35           27         27         27  0.000210\n",
      "36           11         11         11  0.000086\n",
      "37          554        554        554  0.004314\n",
      "38         1609       1609       1609  0.012530\n",
      "39          971        971        971  0.007562\n",
      "40          911        911        911  0.007094\n",
      "41            5          5          5  0.000039\n"
     ]
    },
    {
     "data": {
      "text/plain": "<Figure size 432x288 with 1 Axes>",
      "image/png": "[encoded data removed]"
     },
     "metadata": {
      "needs_background": "light"
     },
     "output_type": "display_data"
    }
   ],
   "source": [
    "train_boddin_add_cut = pd.concat([train_ori,boddin_add_cut])\n",
    "show_hist(train_boddin_add_cut)"
   ],
   "metadata": {
    "collapsed": false,
    "pycharm": {
     "name": "#%%\n"
    }
   }
  },
  {
   "cell_type": "code",
   "execution_count": 38,
   "outputs": [],
   "source": [
    "train_boddin_add_cut=train_boddin_add_cut.sample(frac=1).reset_index(drop=True)\n",
    "\n",
    "train_boddin_add_cut.to_csv('../input/data/train/train+all+bodi_1.tsv', index=False, sep='\\t')"
   ],
   "metadata": {
    "collapsed": false,
    "pycharm": {
     "name": "#%%\n"
    }
   }
  },
  {
   "cell_type": "code",
   "execution_count": 36,
   "outputs": [
    {
     "name": "stdout",
     "output_type": "stream",
     "text": [
      "       sentence  entity_01  entity_02     ratio\n",
      "label                                          \n",
      "1         11205      11205      11205  0.093836\n",
      "2         18615      18615      18615  0.155890\n",
      "4           875        875        875  0.007328\n",
      "7         17850      17850      17850  0.149484\n",
      "8          4566       4566       4566  0.038238\n",
      "10        13779      13779      13779  0.115391\n",
      "11         9650       9650       9650  0.080813\n",
      "12          124        124        124  0.001038\n",
      "15         3436       3436       3436  0.028775\n",
      "17        10039      10039      10039  0.084071\n",
      "19         3402       3402       3402  0.028490\n",
      "21         5461       5461       5461  0.045733\n",
      "22         6601       6601       6601  0.055280\n",
      "26         5037       5037       5037  0.042182\n",
      "33         4757       4757       4757  0.039837\n",
      "37          551        551        551  0.004614\n",
      "38         1591       1591       1591  0.013324\n",
      "39          962        962        962  0.008056\n",
      "40          910        910        910  0.007621\n"
     ]
    },
    {
     "data": {
      "text/plain": "<Figure size 432x288 with 1 Axes>",
      "image/png": "[encoded data removed]"
     },
     "metadata": {
      "needs_background": "light"
     },
     "output_type": "display_data"
    }
   ],
   "source": [
    "show_hist(boddin_add_cut)"
   ],
   "metadata": {
    "collapsed": false,
    "pycharm": {
     "name": "#%%\n"
    }
   }
  }
 ],
 "metadata": {
  "kernelspec": {
   "display_name": "Python 3",
   "language": "python",
   "name": "python3"
  },
  "language_info": {
   "codemirror_mode": {
    "name": "ipython",
    "version": 2
   },
   "file_extension": ".py",
   "mimetype": "text/x-python",
   "name": "python",
   "nbconvert_exporter": "python",
   "pygments_lexer": "ipython2",
   "version": "2.7.6"
  }
 },
 "nbformat": 4,
 "nbformat_minor": 0
}