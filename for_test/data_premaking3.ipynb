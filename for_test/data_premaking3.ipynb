{
 "cells": [
  {
   "cell_type": "code",
   "execution_count": 1,
   "metadata": {
    "collapsed": true
   },
   "outputs": [
    {
     "name": "stdout",
     "output_type": "stream",
     "text": [
      "/opt/ml/code\n"
     ]
    }
   ],
   "source": [
    "%cd code"
   ]
  },
  {
   "cell_type": "code",
   "execution_count": 2,
   "outputs": [
    {
     "data": {
      "text/plain": "                                               sentence entity_01  \\\n0     영국에서 사용되는 스포츠 유틸리티 자동차의 브랜드로는 랜드로버(Land Rover)...      랜드로버   \n1     선거에서 민주당은 해산 전 의석인 230석에 한참 못 미치는 57석(지역구 27석,...       민주당   \n2     유럽 축구 연맹(UEFA) 집행위원회는 2014년 1월 24일에 열린 회의를 통해 ...  유럽 축구 연맹   \n3     용병 공격수 챠디의 부진과 시즌 초 활약한 강수일의 침체, 시즌 중반에 영입한 세르...       강수일   \n4     람캄행 왕은 1237년에서 1247년 사이 수코타이의 왕 퍼쿤 씨 인트라팃과 쓰엉 ...       람캄행   \n...                                                 ...       ...   \n8995  2002년 FIFA 월드컵 사우디아라비아와의 1차전에서 독일은 8-0으로 승리하였는...   사우디아라비아   \n8996  일본의 2대 메이커인 토요타와 닛산은 시장 점유율을 높이기 위한 신차 개발을 계속하...       토요타   \n8997  방호의의 손자 방덕룡(方德龍)은 1588년(선조 21년) 무과에 급제하고 낙안군수로...       방덕룡   \n8998  LG전자는 올해 초 국내시장에 출시한 2020년형 ‘LG 그램’ 시리즈를 이달부터 ...      LG전자   \n8999  전남도의회 안전건설소방위원회 차영수 의원(강진1)은 지난 14일 설 명절을 앞두고 ...       차영수   \n\n           entity_02  label  \n0                자동차     17  \n1                27석      0  \n2               UEFA      6  \n3                공격수      2  \n4          퍼쿤 씨 인트라팃      8  \n...              ...    ...  \n8995           2002년      0  \n8996              일본      9  \n8997  선무원종공신(宣武原從功臣)      2  \n8998              북미      0  \n8999              의원      2  \n\n[9000 rows x 4 columns]",
      "text/html": "<div>\n<style scoped>\n    .dataframe tbody tr th:only-of-type {\n        vertical-align: middle;\n    }\n\n    .dataframe tbody tr th {\n        vertical-align: top;\n    }\n\n    .dataframe thead th {\n        text-align: right;\n    }\n</style>\n<table border=\"1\" class=\"dataframe\">\n  <thead>\n    <tr style=\"text-align: right;\">\n      <th></th>\n      <th>sentence</th>\n      <th>entity_01</th>\n      <th>entity_02</th>\n      <th>label</th>\n    </tr>\n  </thead>\n  <tbody>\n    <tr>\n      <th>0</th>\n      <td>영국에서 사용되는 스포츠 유틸리티 자동차의 브랜드로는 랜드로버(Land Rover)...</td>\n      <td>랜드로버</td>\n      <td>자동차</td>\n      <td>17</td>\n    </tr>\n    <tr>\n      <th>1</th>\n      <td>선거에서 민주당은 해산 전 의석인 230석에 한참 못 미치는 57석(지역구 27석,...</td>\n      <td>민주당</td>\n      <td>27석</td>\n      <td>0</td>\n    </tr>\n    <tr>\n      <th>2</th>\n      <td>유럽 축구 연맹(UEFA) 집행위원회는 2014년 1월 24일에 열린 회의를 통해 ...</td>\n      <td>유럽 축구 연맹</td>\n      <td>UEFA</td>\n      <td>6</td>\n    </tr>\n    <tr>\n      <th>3</th>\n      <td>용병 공격수 챠디의 부진과 시즌 초 활약한 강수일의 침체, 시즌 중반에 영입한 세르...</td>\n      <td>강수일</td>\n      <td>공격수</td>\n      <td>2</td>\n    </tr>\n    <tr>\n      <th>4</th>\n      <td>람캄행 왕은 1237년에서 1247년 사이 수코타이의 왕 퍼쿤 씨 인트라팃과 쓰엉 ...</td>\n      <td>람캄행</td>\n      <td>퍼쿤 씨 인트라팃</td>\n      <td>8</td>\n    </tr>\n    <tr>\n      <th>...</th>\n      <td>...</td>\n      <td>...</td>\n      <td>...</td>\n      <td>...</td>\n    </tr>\n    <tr>\n      <th>8995</th>\n      <td>2002년 FIFA 월드컵 사우디아라비아와의 1차전에서 독일은 8-0으로 승리하였는...</td>\n      <td>사우디아라비아</td>\n      <td>2002년</td>\n      <td>0</td>\n    </tr>\n    <tr>\n      <th>8996</th>\n      <td>일본의 2대 메이커인 토요타와 닛산은 시장 점유율을 높이기 위한 신차 개발을 계속하...</td>\n      <td>토요타</td>\n      <td>일본</td>\n      <td>9</td>\n    </tr>\n    <tr>\n      <th>8997</th>\n      <td>방호의의 손자 방덕룡(方德龍)은 1588년(선조 21년) 무과에 급제하고 낙안군수로...</td>\n      <td>방덕룡</td>\n      <td>선무원종공신(宣武原從功臣)</td>\n      <td>2</td>\n    </tr>\n    <tr>\n      <th>8998</th>\n      <td>LG전자는 올해 초 국내시장에 출시한 2020년형 ‘LG 그램’ 시리즈를 이달부터 ...</td>\n      <td>LG전자</td>\n      <td>북미</td>\n      <td>0</td>\n    </tr>\n    <tr>\n      <th>8999</th>\n      <td>전남도의회 안전건설소방위원회 차영수 의원(강진1)은 지난 14일 설 명절을 앞두고 ...</td>\n      <td>차영수</td>\n      <td>의원</td>\n      <td>2</td>\n    </tr>\n  </tbody>\n</table>\n<p>9000 rows × 4 columns</p>\n</div>"
     },
     "execution_count": 2,
     "metadata": {},
     "output_type": "execute_result"
    }
   ],
   "source": [
    "from load_data import *\n",
    "train_ori = load_data(\"../input/data/train/train.tsv\")\n",
    "train_ori"
   ],
   "metadata": {
    "collapsed": false,
    "pycharm": {
     "name": "#%%\n"
    }
   }
  },
  {
   "cell_type": "code",
   "execution_count": 4,
   "outputs": [
    {
     "data": {
      "text/plain": "                                    0  \\\n0      wikipedia-24896-25-30-33-19-21   \n1       wikipedia-12728-224-5-7-42-44   \n2         wikitree-7590-2-33-35-19-21   \n3        wikitree-48285-0-17-21-86-88   \n4            wikitree-19566-0-0-2-4-6   \n...                               ...   \n3837       wikitree-76411-1-0-0-83-84   \n3838  wikipedia-23059-520-24-26-47-49   \n3839      wikipedia-5414-12-15-21-0-4   \n3840      wikitree-12062-15-0-3-46-47   \n3841     wikitree-21265-0-16-18-20-21   \n\n                                                      1        2   3   4  \\\n0     영국에서 사용되는 스포츠 유틸리티 자동차 브랜드에서는 랜드로버와 지프가 있고, 이 ...     랜드로버  30  33   \n1     선거에서 민주당은 해산 전 의석의 230석에 아직 못 미치는 57석(지역구 27석,...      민주당   5   7   \n2     이에 관해서 AFCD는 대학 소속 전문가와 세계동물보건기관(OIE)이 사람과 동물 ...      OIE  33  35   \n3     김동양, NH투자증권 리서처, 사이드, \"삼성SDS의 3분기 매출액은 2 trill...    삼성SDS  17  21   \n4     심상정 정의당 대표는 21일, 국민에게는 이번 총선에서 지지부진한 정치계의 이합집산...      심상정   0   2   \n...                                                 ...      ...  ..  ..   \n3837  이 시장은 2018년 7월 제7호 태풍, 플라필룬 북상에 따라 취임식을 전격 취소하...        이   0   0   \n3838  김영삼, 전 대통령은 2012년 7월 11일, 김문수, 새누리당 대선 후보의 예방에...      김문수  24  26   \n3839  2002년 FIFA 월드컵의 사우디아라비아와의 1차전에서 독일은 8-0으로 이겼는데...  사우디아라비아  15  21   \n3840          LG전자는 이달부터 북미, 유럽, 아시아 등 주요국에도 발표할 예정입니다.     LG전자   0   3   \n3841  Jeollanamdo 의회의 안전건설소방위원회 차영수 의원(강진일)은 14일 설을 ...      차영수  16  18   \n\n          5   6   7         8  \n0       자동차  19  21     단체:제작  \n1       27석  42  44     관계_없음  \n2       전문가  19  21     관계_없음  \n3       10%  86  88     관계_없음  \n4       정의당   4   6   인물:소속단체  \n...     ...  ..  ..       ...  \n3837     양주  83  84  인물:거주_도시  \n3838    박근혜  47  49     관계_없음  \n3839  2002년   0   4     관계_없음  \n3840     북미  46  47     관계_없음  \n3841     의원  20  21  인물:직업/직함  \n\n[3842 rows x 9 columns]",
      "text/html": "<div>\n<style scoped>\n    .dataframe tbody tr th:only-of-type {\n        vertical-align: middle;\n    }\n\n    .dataframe tbody tr th {\n        vertical-align: top;\n    }\n\n    .dataframe thead th {\n        text-align: right;\n    }\n</style>\n<table border=\"1\" class=\"dataframe\">\n  <thead>\n    <tr style=\"text-align: right;\">\n      <th></th>\n      <th>0</th>\n      <th>1</th>\n      <th>2</th>\n      <th>3</th>\n      <th>4</th>\n      <th>5</th>\n      <th>6</th>\n      <th>7</th>\n      <th>8</th>\n    </tr>\n  </thead>\n  <tbody>\n    <tr>\n      <th>0</th>\n      <td>wikipedia-24896-25-30-33-19-21</td>\n      <td>영국에서 사용되는 스포츠 유틸리티 자동차 브랜드에서는 랜드로버와 지프가 있고, 이 ...</td>\n      <td>랜드로버</td>\n      <td>30</td>\n      <td>33</td>\n      <td>자동차</td>\n      <td>19</td>\n      <td>21</td>\n      <td>단체:제작</td>\n    </tr>\n    <tr>\n      <th>1</th>\n      <td>wikipedia-12728-224-5-7-42-44</td>\n      <td>선거에서 민주당은 해산 전 의석의 230석에 아직 못 미치는 57석(지역구 27석,...</td>\n      <td>민주당</td>\n      <td>5</td>\n      <td>7</td>\n      <td>27석</td>\n      <td>42</td>\n      <td>44</td>\n      <td>관계_없음</td>\n    </tr>\n    <tr>\n      <th>2</th>\n      <td>wikitree-7590-2-33-35-19-21</td>\n      <td>이에 관해서 AFCD는 대학 소속 전문가와 세계동물보건기관(OIE)이 사람과 동물 ...</td>\n      <td>OIE</td>\n      <td>33</td>\n      <td>35</td>\n      <td>전문가</td>\n      <td>19</td>\n      <td>21</td>\n      <td>관계_없음</td>\n    </tr>\n    <tr>\n      <th>3</th>\n      <td>wikitree-48285-0-17-21-86-88</td>\n      <td>김동양, NH투자증권 리서처, 사이드, \"삼성SDS의 3분기 매출액은 2 trill...</td>\n      <td>삼성SDS</td>\n      <td>17</td>\n      <td>21</td>\n      <td>10%</td>\n      <td>86</td>\n      <td>88</td>\n      <td>관계_없음</td>\n    </tr>\n    <tr>\n      <th>4</th>\n      <td>wikitree-19566-0-0-2-4-6</td>\n      <td>심상정 정의당 대표는 21일, 국민에게는 이번 총선에서 지지부진한 정치계의 이합집산...</td>\n      <td>심상정</td>\n      <td>0</td>\n      <td>2</td>\n      <td>정의당</td>\n      <td>4</td>\n      <td>6</td>\n      <td>인물:소속단체</td>\n    </tr>\n    <tr>\n      <th>...</th>\n      <td>...</td>\n      <td>...</td>\n      <td>...</td>\n      <td>...</td>\n      <td>...</td>\n      <td>...</td>\n      <td>...</td>\n      <td>...</td>\n      <td>...</td>\n    </tr>\n    <tr>\n      <th>3837</th>\n      <td>wikitree-76411-1-0-0-83-84</td>\n      <td>이 시장은 2018년 7월 제7호 태풍, 플라필룬 북상에 따라 취임식을 전격 취소하...</td>\n      <td>이</td>\n      <td>0</td>\n      <td>0</td>\n      <td>양주</td>\n      <td>83</td>\n      <td>84</td>\n      <td>인물:거주_도시</td>\n    </tr>\n    <tr>\n      <th>3838</th>\n      <td>wikipedia-23059-520-24-26-47-49</td>\n      <td>김영삼, 전 대통령은 2012년 7월 11일, 김문수, 새누리당 대선 후보의 예방에...</td>\n      <td>김문수</td>\n      <td>24</td>\n      <td>26</td>\n      <td>박근혜</td>\n      <td>47</td>\n      <td>49</td>\n      <td>관계_없음</td>\n    </tr>\n    <tr>\n      <th>3839</th>\n      <td>wikipedia-5414-12-15-21-0-4</td>\n      <td>2002년 FIFA 월드컵의 사우디아라비아와의 1차전에서 독일은 8-0으로 이겼는데...</td>\n      <td>사우디아라비아</td>\n      <td>15</td>\n      <td>21</td>\n      <td>2002년</td>\n      <td>0</td>\n      <td>4</td>\n      <td>관계_없음</td>\n    </tr>\n    <tr>\n      <th>3840</th>\n      <td>wikitree-12062-15-0-3-46-47</td>\n      <td>LG전자는 이달부터 북미, 유럽, 아시아 등 주요국에도 발표할 예정입니다.</td>\n      <td>LG전자</td>\n      <td>0</td>\n      <td>3</td>\n      <td>북미</td>\n      <td>46</td>\n      <td>47</td>\n      <td>관계_없음</td>\n    </tr>\n    <tr>\n      <th>3841</th>\n      <td>wikitree-21265-0-16-18-20-21</td>\n      <td>Jeollanamdo 의회의 안전건설소방위원회 차영수 의원(강진일)은 14일 설을 ...</td>\n      <td>차영수</td>\n      <td>16</td>\n      <td>18</td>\n      <td>의원</td>\n      <td>20</td>\n      <td>21</td>\n      <td>인물:직업/직함</td>\n    </tr>\n  </tbody>\n</table>\n<p>3842 rows × 9 columns</p>\n</div>"
     },
     "execution_count": 4,
     "metadata": {},
     "output_type": "execute_result"
    }
   ],
   "source": [
    "import pandas as pd\n",
    "\n",
    "newjp = pd.read_csv('PORORO-Data-Augs/Data/new_data_ja.tsv', delimiter='\\t', header=None)\n",
    "newjp"
   ],
   "metadata": {
    "collapsed": false,
    "pycharm": {
     "name": "#%%\n"
    }
   }
  },
  {
   "cell_type": "code",
   "execution_count": 9,
   "outputs": [],
   "source": [
    "train_ori_jp = pd.concat([train_ori,newjp])\n",
    "train_ori_jp"
   ],
   "metadata": {
    "collapsed": false,
    "pycharm": {
     "name": "#%%\n"
    }
   }
  },
  {
   "cell_type": "code",
   "execution_count": null,
   "outputs": [],
   "source": [
    "train_ori_en.to_csv('../input/data/train/train+ja.tsv', index=False, sep='\\t')"
   ],
   "metadata": {
    "collapsed": false,
    "pycharm": {
     "name": "#%%\n"
    }
   }
  },
  {
   "cell_type": "code",
   "execution_count": 10,
   "outputs": [
    {
     "data": {
      "text/plain": "                                                sentence entity_01  entity_02  \\\n0      영국에서 사용되는 스포츠 유틸리티 자동차의 브랜드로는 랜드로버(Land Rover)...      랜드로버        자동차   \n1      선거에서 민주당은 해산 전 의석인 230석에 한참 못 미치는 57석(지역구 27석,...       민주당        27석   \n2      유럽 축구 연맹(UEFA) 집행위원회는 2014년 1월 24일에 열린 회의를 통해 ...  유럽 축구 연맹       UEFA   \n3      용병 공격수 챠디의 부진과 시즌 초 활약한 강수일의 침체, 시즌 중반에 영입한 세르...       강수일        공격수   \n4      람캄행 왕은 1237년에서 1247년 사이 수코타이의 왕 퍼쿤 씨 인트라팃과 쓰엉 ...       람캄행  퍼쿤 씨 인트라팃   \n...                                                  ...       ...        ...   \n12836                                                NaN       NaN        NaN   \n12837                                                NaN       NaN        NaN   \n12838                                                NaN       NaN        NaN   \n12839                                                NaN       NaN        NaN   \n12840                                                NaN       NaN        NaN   \n\n       label   wikipedia-24896-25-30-33-19-21  \\\n0       17.0                              NaN   \n1        0.0                              NaN   \n2        6.0                              NaN   \n3        2.0                              NaN   \n4        8.0                              NaN   \n...      ...                              ...   \n12836    NaN       wikitree-76411-1-0-0-83-84   \n12837    NaN  wikipedia-23059-520-24-26-47-49   \n12838    NaN      wikipedia-5414-12-15-21-0-4   \n12839    NaN      wikitree-12062-15-0-3-46-47   \n12840    NaN     wikitree-21265-0-16-18-20-21   \n\n      영국에서 사용되는 스포츠 유틸리티 자동차 브랜드에서는 랜드로버와 지프가 있고, 이 블랜드는 자동車 종류를 가리키는 말로 사용될 수도 있다.  \\\n0                                                    NaN                              \n1                                                    NaN                              \n2                                                    NaN                              \n3                                                    NaN                              \n4                                                    NaN                              \n...                                                  ...                              \n12836  이 시장은 2018년 7월 제7호 태풍, 플라필룬 북상에 따라 취임식을 전격 취소하...                              \n12837  김영삼, 전 대통령은 2012년 7월 11일, 김문수, 새누리당 대선 후보의 예방에...                              \n12838  2002년 FIFA 월드컵의 사우디아라비아와의 1차전에서 독일은 8-0으로 이겼는데...                              \n12839          LG전자는 이달부터 북미, 유럽, 아시아 등 주요국에도 발표할 예정입니다.                              \n12840  Jeollanamdo 의회의 안전건설소방위원회 차영수 의원(강진일)은 14일 설을 ...                              \n\n          랜드로버    30    33    자동차    19    21     단체:제작  \n0          NaN   NaN   NaN    NaN   NaN   NaN       NaN  \n1          NaN   NaN   NaN    NaN   NaN   NaN       NaN  \n2          NaN   NaN   NaN    NaN   NaN   NaN       NaN  \n3          NaN   NaN   NaN    NaN   NaN   NaN       NaN  \n4          NaN   NaN   NaN    NaN   NaN   NaN       NaN  \n...        ...   ...   ...    ...   ...   ...       ...  \n12836        이   0.0   0.0     양주  83.0  84.0  인물:거주_도시  \n12837      김문수  24.0  26.0    박근혜  47.0  49.0     관계_없음  \n12838  사우디아라비아  15.0  21.0  2002년   0.0   4.0     관계_없음  \n12839     LG전자   0.0   3.0     북미  46.0  47.0     관계_없음  \n12840      차영수  16.0  18.0     의원  20.0  21.0  인물:직업/직함  \n\n[12841 rows x 13 columns]",
      "text/html": "<div>\n<style scoped>\n    .dataframe tbody tr th:only-of-type {\n        vertical-align: middle;\n    }\n\n    .dataframe tbody tr th {\n        vertical-align: top;\n    }\n\n    .dataframe thead th {\n        text-align: right;\n    }\n</style>\n<table border=\"1\" class=\"dataframe\">\n  <thead>\n    <tr style=\"text-align: right;\">\n      <th></th>\n      <th>sentence</th>\n      <th>entity_01</th>\n      <th>entity_02</th>\n      <th>label</th>\n      <th>wikipedia-24896-25-30-33-19-21</th>\n      <th>영국에서 사용되는 스포츠 유틸리티 자동차 브랜드에서는 랜드로버와 지프가 있고, 이 블랜드는 자동車 종류를 가리키는 말로 사용될 수도 있다.</th>\n      <th>랜드로버</th>\n      <th>30</th>\n      <th>33</th>\n      <th>자동차</th>\n      <th>19</th>\n      <th>21</th>\n      <th>단체:제작</th>\n    </tr>\n  </thead>\n  <tbody>\n    <tr>\n      <th>0</th>\n      <td>영국에서 사용되는 스포츠 유틸리티 자동차의 브랜드로는 랜드로버(Land Rover)...</td>\n      <td>랜드로버</td>\n      <td>자동차</td>\n      <td>17.0</td>\n      <td>NaN</td>\n      <td>NaN</td>\n      <td>NaN</td>\n      <td>NaN</td>\n      <td>NaN</td>\n      <td>NaN</td>\n      <td>NaN</td>\n      <td>NaN</td>\n      <td>NaN</td>\n    </tr>\n    <tr>\n      <th>1</th>\n      <td>선거에서 민주당은 해산 전 의석인 230석에 한참 못 미치는 57석(지역구 27석,...</td>\n      <td>민주당</td>\n      <td>27석</td>\n      <td>0.0</td>\n      <td>NaN</td>\n      <td>NaN</td>\n      <td>NaN</td>\n      <td>NaN</td>\n      <td>NaN</td>\n      <td>NaN</td>\n      <td>NaN</td>\n      <td>NaN</td>\n      <td>NaN</td>\n    </tr>\n    <tr>\n      <th>2</th>\n      <td>유럽 축구 연맹(UEFA) 집행위원회는 2014년 1월 24일에 열린 회의를 통해 ...</td>\n      <td>유럽 축구 연맹</td>\n      <td>UEFA</td>\n      <td>6.0</td>\n      <td>NaN</td>\n      <td>NaN</td>\n      <td>NaN</td>\n      <td>NaN</td>\n      <td>NaN</td>\n      <td>NaN</td>\n      <td>NaN</td>\n      <td>NaN</td>\n      <td>NaN</td>\n    </tr>\n    <tr>\n      <th>3</th>\n      <td>용병 공격수 챠디의 부진과 시즌 초 활약한 강수일의 침체, 시즌 중반에 영입한 세르...</td>\n      <td>강수일</td>\n      <td>공격수</td>\n      <td>2.0</td>\n      <td>NaN</td>\n      <td>NaN</td>\n      <td>NaN</td>\n      <td>NaN</td>\n      <td>NaN</td>\n      <td>NaN</td>\n      <td>NaN</td>\n      <td>NaN</td>\n      <td>NaN</td>\n    </tr>\n    <tr>\n      <th>4</th>\n      <td>람캄행 왕은 1237년에서 1247년 사이 수코타이의 왕 퍼쿤 씨 인트라팃과 쓰엉 ...</td>\n      <td>람캄행</td>\n      <td>퍼쿤 씨 인트라팃</td>\n      <td>8.0</td>\n      <td>NaN</td>\n      <td>NaN</td>\n      <td>NaN</td>\n      <td>NaN</td>\n      <td>NaN</td>\n      <td>NaN</td>\n      <td>NaN</td>\n      <td>NaN</td>\n      <td>NaN</td>\n    </tr>\n    <tr>\n      <th>...</th>\n      <td>...</td>\n      <td>...</td>\n      <td>...</td>\n      <td>...</td>\n      <td>...</td>\n      <td>...</td>\n      <td>...</td>\n      <td>...</td>\n      <td>...</td>\n      <td>...</td>\n      <td>...</td>\n      <td>...</td>\n      <td>...</td>\n    </tr>\n    <tr>\n      <th>12836</th>\n      <td>NaN</td>\n      <td>NaN</td>\n      <td>NaN</td>\n      <td>NaN</td>\n      <td>wikitree-76411-1-0-0-83-84</td>\n      <td>이 시장은 2018년 7월 제7호 태풍, 플라필룬 북상에 따라 취임식을 전격 취소하...</td>\n      <td>이</td>\n      <td>0.0</td>\n      <td>0.0</td>\n      <td>양주</td>\n      <td>83.0</td>\n      <td>84.0</td>\n      <td>인물:거주_도시</td>\n    </tr>\n    <tr>\n      <th>12837</th>\n      <td>NaN</td>\n      <td>NaN</td>\n      <td>NaN</td>\n      <td>NaN</td>\n      <td>wikipedia-23059-520-24-26-47-49</td>\n      <td>김영삼, 전 대통령은 2012년 7월 11일, 김문수, 새누리당 대선 후보의 예방에...</td>\n      <td>김문수</td>\n      <td>24.0</td>\n      <td>26.0</td>\n      <td>박근혜</td>\n      <td>47.0</td>\n      <td>49.0</td>\n      <td>관계_없음</td>\n    </tr>\n    <tr>\n      <th>12838</th>\n      <td>NaN</td>\n      <td>NaN</td>\n      <td>NaN</td>\n      <td>NaN</td>\n      <td>wikipedia-5414-12-15-21-0-4</td>\n      <td>2002년 FIFA 월드컵의 사우디아라비아와의 1차전에서 독일은 8-0으로 이겼는데...</td>\n      <td>사우디아라비아</td>\n      <td>15.0</td>\n      <td>21.0</td>\n      <td>2002년</td>\n      <td>0.0</td>\n      <td>4.0</td>\n      <td>관계_없음</td>\n    </tr>\n    <tr>\n      <th>12839</th>\n      <td>NaN</td>\n      <td>NaN</td>\n      <td>NaN</td>\n      <td>NaN</td>\n      <td>wikitree-12062-15-0-3-46-47</td>\n      <td>LG전자는 이달부터 북미, 유럽, 아시아 등 주요국에도 발표할 예정입니다.</td>\n      <td>LG전자</td>\n      <td>0.0</td>\n      <td>3.0</td>\n      <td>북미</td>\n      <td>46.0</td>\n      <td>47.0</td>\n      <td>관계_없음</td>\n    </tr>\n    <tr>\n      <th>12840</th>\n      <td>NaN</td>\n      <td>NaN</td>\n      <td>NaN</td>\n      <td>NaN</td>\n      <td>wikitree-21265-0-16-18-20-21</td>\n      <td>Jeollanamdo 의회의 안전건설소방위원회 차영수 의원(강진일)은 14일 설을 ...</td>\n      <td>차영수</td>\n      <td>16.0</td>\n      <td>18.0</td>\n      <td>의원</td>\n      <td>20.0</td>\n      <td>21.0</td>\n      <td>인물:직업/직함</td>\n    </tr>\n  </tbody>\n</table>\n<p>12841 rows × 13 columns</p>\n</div>"
     },
     "execution_count": 10,
     "metadata": {},
     "output_type": "execute_result"
    }
   ],
   "source": [
    "train_ori_ja_load = pd.read_csv('../input/data/train/train+ja.tsv', delimiter='\\t')\n",
    "train_ori_ja_load"
   ],
   "metadata": {
    "collapsed": false,
    "pycharm": {
     "name": "#%%\n"
    }
   }
  }
 ],
 "metadata": {
  "kernelspec": {
   "display_name": "Python 3",
   "language": "python",
   "name": "python3"
  },
  "language_info": {
   "codemirror_mode": {
    "name": "ipython",
    "version": 2
   },
   "file_extension": ".py",
   "mimetype": "text/x-python",
   "name": "python",
   "nbconvert_exporter": "python",
   "pygments_lexer": "ipython2",
   "version": "2.7.6"
  }
 },
 "nbformat": 4,
 "nbformat_minor": 0
}