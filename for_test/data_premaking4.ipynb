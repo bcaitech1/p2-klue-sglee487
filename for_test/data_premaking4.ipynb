{
 "cells": [
  {
   "cell_type": "code",
   "execution_count": 1,
   "metadata": {
    "collapsed": true
   },
   "outputs": [
    {
     "name": "stdout",
     "output_type": "stream",
     "text": [
      "/opt/ml/code\n"
     ]
    }
   ],
   "source": [
    "%cd code"
   ]
  },
  {
   "cell_type": "code",
   "execution_count": 2,
   "outputs": [
    {
     "name": "stdout",
     "output_type": "stream",
     "text": [
      "                                               sentence entity_01  \\\n",
      "0     영국에서 사용되는 스포츠 유틸리티 자동차의 브랜드로는 랜드로버(Land Rover)...      랜드로버   \n",
      "1     선거에서 민주당은 해산 전 의석인 230석에 한참 못 미치는 57석(지역구 27석,...       민주당   \n",
      "2     유럽 축구 연맹(UEFA) 집행위원회는 2014년 1월 24일에 열린 회의를 통해 ...  유럽 축구 연맹   \n",
      "3     용병 공격수 챠디의 부진과 시즌 초 활약한 강수일의 침체, 시즌 중반에 영입한 세르...       강수일   \n",
      "4     람캄행 왕은 1237년에서 1247년 사이 수코타이의 왕 퍼쿤 씨 인트라팃과 쓰엉 ...       람캄행   \n",
      "...                                                 ...       ...   \n",
      "8995  2002년 FIFA 월드컵 사우디아라비아와의 1차전에서 독일은 8-0으로 승리하였는...   사우디아라비아   \n",
      "8996  일본의 2대 메이커인 토요타와 닛산은 시장 점유율을 높이기 위한 신차 개발을 계속하...       토요타   \n",
      "8997  방호의의 손자 방덕룡(方德龍)은 1588년(선조 21년) 무과에 급제하고 낙안군수로...       방덕룡   \n",
      "8998  LG전자는 올해 초 국내시장에 출시한 2020년형 ‘LG 그램’ 시리즈를 이달부터 ...      LG전자   \n",
      "8999  전남도의회 안전건설소방위원회 차영수 의원(강진1)은 지난 14일 설 명절을 앞두고 ...       차영수   \n",
      "\n",
      "           entity_02  label  \n",
      "0                자동차     17  \n",
      "1                27석      0  \n",
      "2               UEFA      6  \n",
      "3                공격수      2  \n",
      "4          퍼쿤 씨 인트라팃      8  \n",
      "...              ...    ...  \n",
      "8995           2002년      0  \n",
      "8996              일본      9  \n",
      "8997  선무원종공신(宣武原從功臣)      2  \n",
      "8998              북미      0  \n",
      "8999              의원      2  \n",
      "\n",
      "[9000 rows x 4 columns]\n",
      "                                                 sentence entity_01  \\\n",
      "0                      함석헌 은 1901 년  평안북도 용천 에서 출생 했 다 .        함석헌   \n",
      "1        토마스 만 은 평의원 이 며 곡물 상인 이 었 던 토마스 요한 하인리히 만 과 율...     토마스 만   \n",
      "2        하인리히 뵐 ( Heinrich B ö ll , 쾰른 , 1917 년 12 월 2...    하인리히 뵐   \n",
      "3        하인리히 뵐 ( Heinrich B ö ll , 쾰른 , 1917 년 12 월 2...    하인리히 뵐   \n",
      "4       노무현 은 ' 1986 년  부산광역시 에서 송기인 신부 로부터 영세 를 받 아 '...       송기인   \n",
      "...                                                   ...       ...   \n",
      "280506                2. \"사슴여인\" (박건호 작사 / 계동균 작곡) – 03:24       박건호   \n",
      "280507               9. \"안녕히 계세요\" (장덕 작사 / 장덕 작곡) - 02:06        장덕   \n",
      "280508  2009년, 블런트는 장마크 발레가 감독을 맡고 줄리언 펠로스가 각본을 쓴 《영 빅...   줄리언 펠로스   \n",
      "280509  2008년 저드 애퍼토가 제작하고 세스 로건과 에번 골드버그가 각본을 맡은 코미디 ...   에번 골드버그   \n",
      "280510  영화 《라이터를 켜라》,《귀신이 산다》의 장항준, 《그해 여름》의 김은희 작가가 공...       장항준   \n",
      "\n",
      "         entity_02  label  \n",
      "0             평안북도     19  \n",
      "1              뤼베크     19  \n",
      "2           랑엔브로이히     19  \n",
      "3               쾰른     19  \n",
      "4            부산광역시     19  \n",
      "...            ...    ...  \n",
      "280506        사슴여인     22  \n",
      "280507     안녕히 계세요     22  \n",
      "280508      영 빅토리아     22  \n",
      "280509  파인애플 익스프레스     22  \n",
      "280510      귀신이 산다     22  \n",
      "\n",
      "[280511 rows x 4 columns]\n",
      "                                                 sentence entity_01 entity_02  \\\n",
      "0        이강돈 ( 李康敦 , 1961 년 2 월 27 일 ~ ) 은 전 KBO 리그 빙그...       이강돈       외야수   \n",
      "1                           원기 원담 원매 원봉 원상  원성 원술 < br >         원술        원성   \n",
      "2        하트셉수트 는 아버지 투트모세 1세 가 정비 ( 正妃 ) 와 의 사이 에서 둔 유...   투트모세 1세     하트셉수트   \n",
      "3       아버지 허엽 이 첫 부 인 청주한 씨 ( 淸州韓氏 ) 에게서 허성 ( 許筬 ) 과 ...        허균        허엽   \n",
      "4       외가 쪽 으로 는 조선 세조 의 측근 이 자 계유정난 , 세조 반정 을 도왔 고 ,...     조선 세조     조선 예종   \n",
      "...                                                   ...       ...       ...   \n",
      "280506  카를 게오르크 뷔히너 ( , 1813 년 10 월 17 일 ~ 1837 년 2 월 ...  게오르크 뷔히너       극작가   \n",
      "280507  캉디드 ( Candide , ou l ' Optimisme ) 는 프랑스 의 작가 ...       볼테르       프랑스   \n",
      "280508        제너럴 모터스 ( GM ) 은 1908년 9 월 16 일 창립 되 었 다 .    제너럴 모터스     1908년   \n",
      "280509               2 월 21 일 - 대한민국 의 김종필 전 국무총리 부인 박영옥        박영옥      대한민국   \n",
      "280510   1989년 4 월 1 일 : 퇴계원 출장소 를 퇴계원면 으로 승격 ( 남양주군 조...      퇴계원면     1989년   \n",
      "\n",
      "        label  \n",
      "0           2  \n",
      "1          11  \n",
      "2          21  \n",
      "3           8  \n",
      "4          21  \n",
      "...       ...  \n",
      "280506      2  \n",
      "280507      7  \n",
      "280508     33  \n",
      "280509      7  \n",
      "280510     33  \n",
      "\n",
      "[280511 rows x 4 columns]\n"
     ]
    }
   ],
   "source": [
    "from load_data import *\n",
    "import pandas as pd\n",
    "\n",
    "train_ori = load_data(\"../input/data/train/train.tsv\")\n",
    "print(train_ori)\n",
    "boddin_add = pd.read_csv(\"../input/data/train/all+bodi.tsv\", delimiter='\\t')\n",
    "print(boddin_add)\n",
    "boddin_add=boddin_add.sample(frac=1).reset_index(drop=True)\n",
    "print(boddin_add)"
   ],
   "metadata": {
    "collapsed": false,
    "pycharm": {
     "name": "#%%\n"
    }
   }
  },
  {
   "cell_type": "code",
   "execution_count": 3,
   "outputs": [
    {
     "name": "stdout",
     "output_type": "stream",
     "text": [
      "       sentence  entity_01  entity_02\n",
      "label                                \n",
      "0          4438       4438       4438\n",
      "1            92         92         92\n",
      "2           553        553        553\n",
      "3            44         44         44\n",
      "4           679        679        679\n",
      "5           186        186        186\n",
      "6           231        231        231\n",
      "7           209        209        209\n",
      "8           164        164        164\n",
      "9           115        115        115\n",
      "10          815        815        815\n",
      "11           58         58         58\n",
      "12           45         45         45\n",
      "13           11         11         11\n",
      "14           45         45         45\n",
      "15          335        335        335\n",
      "16           23         23         23\n",
      "17          169        169        169\n",
      "18            7          7          7\n",
      "19            4          4          4\n",
      "20          136        136        136\n",
      "21           84         84         84\n",
      "22           56         56         56\n",
      "23           79         79         79\n",
      "24          103        103        103\n",
      "25           52         52         52\n",
      "26            8          8          8\n",
      "27           36         36         36\n",
      "28            9          9          9\n",
      "29            5          5          5\n",
      "30           12         12         12\n",
      "31           15         15         15\n",
      "32           26         26         26\n",
      "33           67         67         67\n",
      "34           15         15         15\n",
      "35           27         27         27\n",
      "36           11         11         11\n",
      "37            3          3          3\n",
      "38           18         18         18\n",
      "39            9          9          9\n",
      "40            1          1          1\n",
      "41            5          5          5\n",
      "       sentence  entity_01  entity_02\n",
      "label                                \n",
      "1         11205      11205      11205\n",
      "2         34615      34615      34615\n",
      "4           875        875        875\n",
      "7         77850      77850      77850\n",
      "8          4566       4566       4566\n",
      "10        13779      13779      13779\n",
      "11         9650       9650       9650\n",
      "12          124        124        124\n",
      "15         3436       3436       3436\n",
      "17        15039      15039      15039\n",
      "19        15402      15402      15402\n",
      "21        10461      10461      10461\n",
      "22        16601      16601      16601\n",
      "26        28037      28037      28037\n",
      "33        27757      27757      27757\n",
      "37          551        551        551\n",
      "38         1591       1591       1591\n",
      "39         2062       2062       2062\n",
      "40         6910       6910       6910\n"
     ]
    }
   ],
   "source": [
    "print(train_ori.groupby('label').count())\n",
    "print(boddin_add.groupby('label').count())"
   ],
   "metadata": {
    "collapsed": false,
    "pycharm": {
     "name": "#%%\n"
    }
   }
  },
  {
   "cell_type": "code",
   "execution_count": 4,
   "outputs": [
    {
     "data": {
      "text/plain": "<AxesSubplot:xlabel='label', ylabel='Count'>"
     },
     "execution_count": 4,
     "metadata": {},
     "output_type": "execute_result"
    },
    {
     "data": {
      "text/plain": "<Figure size 432x288 with 1 Axes>",
      "image/png": "[encoded data removed]"
     },
     "metadata": {
      "needs_background": "light"
     },
     "output_type": "display_data"
    }
   ],
   "source": [
    "import seaborn as sns\n",
    "\n",
    "sns.histplot(train_ori['label'])"
   ],
   "metadata": {
    "collapsed": false,
    "pycharm": {
     "name": "#%%\n"
    }
   }
  },
  {
   "cell_type": "code",
   "execution_count": 5,
   "outputs": [
    {
     "data": {
      "text/plain": "<AxesSubplot:xlabel='label', ylabel='Count'>"
     },
     "execution_count": 5,
     "metadata": {},
     "output_type": "execute_result"
    },
    {
     "data": {
      "text/plain": "<Figure size 432x288 with 1 Axes>",
      "image/png": "[encoded data removed]"
     },
     "metadata": {
      "needs_background": "light"
     },
     "output_type": "display_data"
    }
   ],
   "source": [
    "sns.histplot(boddin_add['label'])"
   ],
   "metadata": {
    "collapsed": false,
    "pycharm": {
     "name": "#%%\n"
    }
   }
  },
  {
   "cell_type": "code",
   "execution_count": 6,
   "outputs": [
    {
     "name": "stdout",
     "output_type": "stream",
     "text": [
      "       sentence  entity_01  entity_02     ratio\n",
      "label                                          \n",
      "0          4438       4438       4438  0.493111\n",
      "1            92         92         92  0.010222\n",
      "2           553        553        553  0.061444\n",
      "3            44         44         44  0.004889\n",
      "4           679        679        679  0.075444\n",
      "5           186        186        186  0.020667\n",
      "6           231        231        231  0.025667\n",
      "7           209        209        209  0.023222\n",
      "8           164        164        164  0.018222\n",
      "9           115        115        115  0.012778\n",
      "10          815        815        815  0.090556\n",
      "11           58         58         58  0.006444\n",
      "12           45         45         45  0.005000\n",
      "13           11         11         11  0.001222\n",
      "14           45         45         45  0.005000\n",
      "15          335        335        335  0.037222\n",
      "16           23         23         23  0.002556\n",
      "17          169        169        169  0.018778\n",
      "18            7          7          7  0.000778\n",
      "19            4          4          4  0.000444\n",
      "20          136        136        136  0.015111\n",
      "21           84         84         84  0.009333\n",
      "22           56         56         56  0.006222\n",
      "23           79         79         79  0.008778\n",
      "24          103        103        103  0.011444\n",
      "25           52         52         52  0.005778\n",
      "26            8          8          8  0.000889\n",
      "27           36         36         36  0.004000\n",
      "28            9          9          9  0.001000\n",
      "29            5          5          5  0.000556\n",
      "30           12         12         12  0.001333\n",
      "31           15         15         15  0.001667\n",
      "32           26         26         26  0.002889\n",
      "33           67         67         67  0.007444\n",
      "34           15         15         15  0.001667\n",
      "35           27         27         27  0.003000\n",
      "36           11         11         11  0.001222\n",
      "37            3          3          3  0.000333\n",
      "38           18         18         18  0.002000\n",
      "39            9          9          9  0.001000\n",
      "40            1          1          1  0.000111\n",
      "41            5          5          5  0.000556\n"
     ]
    },
    {
     "data": {
      "text/plain": "<AxesSubplot:xlabel='label', ylabel='Count'>"
     },
     "execution_count": 6,
     "metadata": {},
     "output_type": "execute_result"
    },
    {
     "data": {
      "text/plain": "<Figure size 432x288 with 1 Axes>",
      "image/png": "[encoded data removed]"
     },
     "metadata": {
      "needs_background": "light"
     },
     "output_type": "display_data"
    }
   ],
   "source": [
    "train_ratio = train_ori.groupby('label').count()\n",
    "train_ratio['ratio'] = train_ratio['sentence'] / len(train_ori)\n",
    "print(train_ratio)\n",
    "sns.histplot(train_ori['label'])"
   ],
   "metadata": {
    "collapsed": false,
    "pycharm": {
     "name": "#%%\n"
    }
   }
  },
  {
   "cell_type": "code",
   "execution_count": 7,
   "outputs": [],
   "source": [
    "import copy\n",
    "\n",
    "boddin_add_cut = copy.deepcopy(boddin_add)"
   ],
   "metadata": {
    "collapsed": false,
    "pycharm": {
     "name": "#%%\n"
    }
   }
  },
  {
   "cell_type": "code",
   "execution_count": 8,
   "outputs": [],
   "source": [
    "def show_hist(boddin_add_cut):\n",
    "    ratio = boddin_add_cut.groupby('label').count()\n",
    "    ratio['ratio'] = ratio['sentence'] / len(boddin_add_cut)\n",
    "    print(ratio)\n",
    "    sns.histplot(boddin_add_cut['label'])"
   ],
   "metadata": {
    "collapsed": false,
    "pycharm": {
     "name": "#%%\n"
    }
   }
  },
  {
   "cell_type": "code",
   "execution_count": 22,
   "outputs": [],
   "source": [
    "add_list = []"
   ],
   "metadata": {
    "collapsed": false,
    "pycharm": {
     "name": "#%%\n"
    }
   }
  },
  {
   "cell_type": "code",
   "execution_count": 34,
   "outputs": [
    {
     "name": "stdout",
     "output_type": "stream",
     "text": [
      "       sentence  entity_01  entity_02     ratio\n",
      "label                                          \n",
      "1         11159      11159      11159  0.040367\n",
      "2         34338      34338      34338  0.124215\n",
      "4           535        535        535  0.001935\n",
      "7         77850      77850      77850  0.281616\n",
      "8          4158       4158       4158  0.015041\n",
      "10        13779      13779      13779  0.049844\n",
      "11         9650       9650       9650  0.034908\n",
      "12          124        124        124  0.000449\n",
      "15         3436       3436       3436  0.012429\n",
      "17        15039      15039      15039  0.054402\n",
      "19        15402      15402      15402  0.055716\n",
      "21        10461      10461      10461  0.037842\n",
      "22        16601      16601      16601  0.060053\n",
      "26        25037      25037      25037  0.090569\n",
      "33        27757      27757      27757  0.100409\n",
      "37          551        551        551  0.001993\n",
      "38         1591       1591       1591  0.005755\n",
      "39         2062       2062       2062  0.007459\n",
      "40         6910       6910       6910  0.024996\n",
      "       sentence  entity_01  entity_02     ratio\n",
      "label                                          \n",
      "1            46         46         46  0.042951\n",
      "2           277        277        277  0.258637\n",
      "4           340        340        340  0.317460\n",
      "8           408        408        408  0.380952\n"
     ]
    },
    {
     "data": {
      "text/plain": "<Figure size 432x288 with 1 Axes>",
      "image/png": "[encoded data removed]"
     },
     "metadata": {
      "needs_background": "light"
     },
     "output_type": "display_data"
    }
   ],
   "source": [
    "count = 93\n",
    "target = [5]\n",
    "delete_list = []\n",
    "for index, (sentence, entity_01, entity_02, label) in boddin_add_cut.iterrows():\n",
    "    if label in target:\n",
    "        add_list.append(boddin_add_cut.loc[index])\n",
    "        delete_list.append(index)\n",
    "        count -= 1\n",
    "    if count == 0:\n",
    "        boddin_add_cut = boddin_add_cut.drop(delete_list)\n",
    "        break\n",
    "show_hist(boddin_add_cut)\n",
    "show_hist(pd.DataFrame(add_list))"
   ],
   "metadata": {
    "collapsed": false,
    "pycharm": {
     "name": "#%%\n"
    }
   }
  },
  {
   "cell_type": "code",
   "execution_count": 35,
   "outputs": [
    {
     "name": "stdout",
     "output_type": "stream",
     "text": [
      "       sentence  entity_01  entity_02     ratio\n",
      "label                                          \n",
      "1            46         46         46  0.042951\n",
      "2           277        277        277  0.258637\n",
      "4           340        340        340  0.317460\n",
      "8           408        408        408  0.380952\n"
     ]
    },
    {
     "data": {
      "text/plain": "<Figure size 432x288 with 1 Axes>",
      "image/png": "[encoded data removed]"
     },
     "metadata": {
      "needs_background": "light"
     },
     "output_type": "display_data"
    }
   ],
   "source": [
    "show_hist(pd.DataFrame(add_list))"
   ],
   "metadata": {
    "collapsed": false,
    "pycharm": {
     "name": "#%%\n"
    }
   }
  },
  {
   "cell_type": "code",
   "execution_count": 21,
   "outputs": [
    {
     "name": "stdout",
     "output_type": "stream",
     "text": [
      "[sentence     아버지 허엽 이 첫 부 인 청주한 씨 ( 淸州韓氏 ) 에게서 허성 ( 許筬 ) 과 ...\n",
      "entity_01                                                   허균\n",
      "entity_02                                                   허엽\n",
      "label                                                        8\n",
      "Name: 3, dtype: object, sentence     * 2012 년 《 다이라노 기요모리 》 - 다이라노 다다모리 역 \n",
      "entity_01                                다이라노 기요모리\n",
      "entity_02                                다이라노 다다모리\n",
      "label                                            8\n",
      "Name: 12, dtype: object, sentence     후일 1976 년 그 의 장남 손원일 은 손정도 의 개종 과정 에 대해 이렇 게 회...\n",
      "entity_01                                                  손원일\n",
      "entity_02                                                  손정도\n",
      "label                                                        8\n",
      "Name: 33, dtype: object, sentence     호로관 전투 에서 하내 태수 왕광 ( 王匡 ) 이 동탁 의 양아들 여포 ( 呂布 )...\n",
      "entity_01                                                   여포\n",
      "entity_02                                                   동탁\n",
      "label                                                        8\n",
      "Name: 80, dtype: object, sentence     그러나 할아버지 남연군 이구 가 순조 때 , 아들 없이 사망 한 은신군 의 양자 가...\n",
      "entity_01                                                  남연군\n",
      "entity_02                                                  은신군\n",
      "label                                                        8\n",
      "Name: 259, dtype: object]\n",
      "       sentence  entity_01  entity_02  ratio\n",
      "label                                       \n",
      "8           408        408        408    1.0\n"
     ]
    },
    {
     "data": {
      "text/plain": "<Figure size 432x288 with 1 Axes>",
      "image/png": "[encoded data removed]"
     },
     "metadata": {
      "needs_background": "light"
     },
     "output_type": "display_data"
    }
   ],
   "source": [
    "print(add_list[0:5])\n",
    "pd.DataFrame(add_list[0:5])\n",
    "show_hist(pd.DataFrame(add_list))"
   ],
   "metadata": {
    "collapsed": false,
    "pycharm": {
     "name": "#%%\n"
    }
   }
  },
  {
   "cell_type": "code",
   "execution_count": 22,
   "outputs": [],
   "source": [
    "count = 4000\n",
    "target = 0\n",
    "delete_list = []\n",
    "for index, (sentence, entity_01, entity_02, label) in train_ori.iterrows():\n",
    "    if label == target:\n",
    "        delete_list.append(index)\n",
    "        count -= 1\n",
    "    if count == 0:\n",
    "        train_ori = train_ori.drop(delete_list)\n",
    "        break"
   ],
   "metadata": {
    "collapsed": false,
    "pycharm": {
     "name": "#%%\n"
    }
   }
  },
  {
   "cell_type": "code",
   "execution_count": 23,
   "outputs": [
    {
     "data": {
      "text/plain": "<AxesSubplot:xlabel='label', ylabel='Count'>"
     },
     "execution_count": 23,
     "metadata": {},
     "output_type": "execute_result"
    },
    {
     "data": {
      "text/plain": "<Figure size 432x288 with 1 Axes>",
      "image/png": "[encoded data removed]"
     },
     "metadata": {
      "needs_background": "light"
     },
     "output_type": "display_data"
    }
   ],
   "source": [
    "train_ori_temp = copy.deepcopy(train_ori)\n",
    "train_ratio_temp = train_ori_temp.groupby('label').count()\n",
    "train_ratio_temp['ratio'] = train_ratio_temp['sentence'] / len(train_ori_temp)\n",
    "sns.histplot(train_ori_temp['label'])"
   ],
   "metadata": {
    "collapsed": false,
    "pycharm": {
     "name": "#%%\n"
    }
   }
  },
  {
   "cell_type": "code",
   "execution_count": 24,
   "outputs": [
    {
     "name": "stdout",
     "output_type": "stream",
     "text": [
      "       sentence  entity_01  entity_02   ratio\n",
      "label                                        \n",
      "0           438        438        438  0.0876\n",
      "1            92         92         92  0.0184\n",
      "2           553        553        553  0.1106\n",
      "3            44         44         44  0.0088\n",
      "4           679        679        679  0.1358\n",
      "5           186        186        186  0.0372\n",
      "6           231        231        231  0.0462\n",
      "7           209        209        209  0.0418\n",
      "8           164        164        164  0.0328\n",
      "9           115        115        115  0.0230\n",
      "10          815        815        815  0.1630\n",
      "11           58         58         58  0.0116\n",
      "12           45         45         45  0.0090\n",
      "13           11         11         11  0.0022\n",
      "14           45         45         45  0.0090\n",
      "15          335        335        335  0.0670\n",
      "16           23         23         23  0.0046\n",
      "17          169        169        169  0.0338\n",
      "18            7          7          7  0.0014\n",
      "19            4          4          4  0.0008\n",
      "20          136        136        136  0.0272\n",
      "21           84         84         84  0.0168\n",
      "22           56         56         56  0.0112\n",
      "23           79         79         79  0.0158\n",
      "24          103        103        103  0.0206\n",
      "25           52         52         52  0.0104\n",
      "26            8          8          8  0.0016\n",
      "27           36         36         36  0.0072\n",
      "28            9          9          9  0.0018\n",
      "29            5          5          5  0.0010\n",
      "30           12         12         12  0.0024\n",
      "31           15         15         15  0.0030\n",
      "32           26         26         26  0.0052\n",
      "33           67         67         67  0.0134\n",
      "34           15         15         15  0.0030\n",
      "35           27         27         27  0.0054\n",
      "36           11         11         11  0.0022\n",
      "37            3          3          3  0.0006\n",
      "38           18         18         18  0.0036\n",
      "39            9          9          9  0.0018\n",
      "40            1          1          1  0.0002\n",
      "41            5          5          5  0.0010\n"
     ]
    }
   ],
   "source": [
    "print(train_ratio)"
   ],
   "metadata": {
    "collapsed": false,
    "pycharm": {
     "name": "#%%\n"
    }
   }
  },
  {
   "cell_type": "code",
   "execution_count": 37,
   "outputs": [
    {
     "name": "stdout",
     "output_type": "stream",
     "text": [
      "       sentence  entity_01  entity_02     ratio\n",
      "label                                          \n",
      "0          4438       4438       4438  0.034561\n",
      "1         11297      11297      11297  0.087975\n",
      "2         19168      19168      19168  0.149271\n",
      "3            44         44         44  0.000343\n",
      "4          1554       1554       1554  0.012102\n",
      "5           186        186        186  0.001448\n",
      "6           231        231        231  0.001799\n",
      "7         18059      18059      18059  0.140634\n",
      "8          4730       4730       4730  0.036835\n",
      "9           115        115        115  0.000896\n",
      "10        14594      14594      14594  0.113651\n",
      "11         9708       9708       9708  0.075601\n",
      "12          169        169        169  0.001316\n",
      "13           11         11         11  0.000086\n",
      "14           45         45         45  0.000350\n",
      "15         3771       3771       3771  0.029367\n",
      "16           23         23         23  0.000179\n",
      "17        10208      10208      10208  0.079495\n",
      "18            7          7          7  0.000055\n",
      "19         3406       3406       3406  0.026524\n",
      "20          136        136        136  0.001059\n",
      "21         5545       5545       5545  0.043182\n",
      "22         6657       6657       6657  0.051841\n",
      "23           79         79         79  0.000615\n",
      "24          103        103        103  0.000802\n",
      "25           52         52         52  0.000405\n",
      "26         5045       5045       5045  0.039288\n",
      "27           36         36         36  0.000280\n",
      "28            9          9          9  0.000070\n",
      "29            5          5          5  0.000039\n",
      "30           12         12         12  0.000093\n",
      "31           15         15         15  0.000117\n",
      "32           26         26         26  0.000202\n",
      "33         4824       4824       4824  0.037567\n",
      "34           15         15         15  0.000117\n",
      "35           27         27         27  0.000210\n",
      "36           11         11         11  0.000086\n",
      "37          554        554        554  0.004314\n",
      "38         1609       1609       1609  0.012530\n",
      "39          971        971        971  0.007562\n",
      "40          911        911        911  0.007094\n",
      "41            5          5          5  0.000039\n"
     ]
    },
    {
     "data": {
      "text/plain": "<Figure size 432x288 with 1 Axes>",
      "image/png": "[encoded data removed]"
     },
     "metadata": {
      "needs_background": "light"
     },
     "output_type": "display_data"
    }
   ],
   "source": [
    "train_boddin_add_cut = pd.concat([train_ori,boddin_add_cut])\n",
    "show_hist(train_boddin_add_cut)"
   ],
   "metadata": {
    "collapsed": false,
    "pycharm": {
     "name": "#%%\n"
    }
   }
  },
  {
   "cell_type": "code",
   "execution_count": 38,
   "outputs": [],
   "source": [
    "# train_boddin_add_cut=train_boddin_add_cut.sample(frac=1).reset_index(drop=True)\n",
    "\n",
    "train_boddin_add_cut.to_csv('../input/data/train/train+all+bodi_1.tsv', index=False, sep='\\t')"
   ],
   "metadata": {
    "collapsed": false,
    "pycharm": {
     "name": "#%%\n"
    }
   }
  },
  {
   "cell_type": "code",
   "execution_count": 36,
   "outputs": [
    {
     "name": "stdout",
     "output_type": "stream",
     "text": [
      "       sentence  entity_01  entity_02     ratio\n",
      "label                                          \n",
      "1         11205      11205      11205  0.093836\n",
      "2         18615      18615      18615  0.155890\n",
      "4           875        875        875  0.007328\n",
      "7         17850      17850      17850  0.149484\n",
      "8          4566       4566       4566  0.038238\n",
      "10        13779      13779      13779  0.115391\n",
      "11         9650       9650       9650  0.080813\n",
      "12          124        124        124  0.001038\n",
      "15         3436       3436       3436  0.028775\n",
      "17        10039      10039      10039  0.084071\n",
      "19         3402       3402       3402  0.028490\n",
      "21         5461       5461       5461  0.045733\n",
      "22         6601       6601       6601  0.055280\n",
      "26         5037       5037       5037  0.042182\n",
      "33         4757       4757       4757  0.039837\n",
      "37          551        551        551  0.004614\n",
      "38         1591       1591       1591  0.013324\n",
      "39          962        962        962  0.008056\n",
      "40          910        910        910  0.007621\n"
     ]
    },
    {
     "data": {
      "text/plain": "<Figure size 432x288 with 1 Axes>",
      "image/png": "[encoded data removed]"
     },
     "metadata": {
      "needs_background": "light"
     },
     "output_type": "display_data"
    }
   ],
   "source": [
    "show_hist(boddin_add_cut)"
   ],
   "metadata": {
    "collapsed": false,
    "pycharm": {
     "name": "#%%\n"
    }
   }
  }
 ],
 "metadata": {
  "kernelspec": {
   "display_name": "Python 3",
   "language": "python",
   "name": "python3"
  },
  "language_info": {
   "codemirror_mode": {
    "name": "ipython",
    "version": 2
   },
   "file_extension": ".py",
   "mimetype": "text/x-python",
   "name": "python",
   "nbconvert_exporter": "python",
   "pygments_lexer": "ipython2",
   "version": "2.7.6"
  }
 },
 "nbformat": 4,
 "nbformat_minor": 0
}