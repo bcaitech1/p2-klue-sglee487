{
 "cells": [
  {
   "cell_type": "code",
   "execution_count": 1,
   "metadata": {
    "collapsed": true
   },
   "outputs": [
    {
     "name": "stdout",
     "output_type": "stream",
     "text": [
      "/opt/ml/code\n"
     ]
    }
   ],
   "source": [
    "%cd code"
   ]
  },
  {
   "cell_type": "code",
   "execution_count": 2,
   "outputs": [
    {
     "name": "stdout",
     "output_type": "stream",
     "text": [
      "                                               sentence entity_01  \\\n",
      "0     영국에서 사용되는 스포츠 유틸리티 자동차의 브랜드로는 랜드로버(Land Rover)...      랜드로버   \n",
      "1     선거에서 민주당은 해산 전 의석인 230석에 한참 못 미치는 57석(지역구 27석,...       민주당   \n",
      "2     유럽 축구 연맹(UEFA) 집행위원회는 2014년 1월 24일에 열린 회의를 통해 ...  유럽 축구 연맹   \n",
      "3     용병 공격수 챠디의 부진과 시즌 초 활약한 강수일의 침체, 시즌 중반에 영입한 세르...       강수일   \n",
      "4     람캄행 왕은 1237년에서 1247년 사이 수코타이의 왕 퍼쿤 씨 인트라팃과 쓰엉 ...       람캄행   \n",
      "...                                                 ...       ...   \n",
      "8995  2002년 FIFA 월드컵 사우디아라비아와의 1차전에서 독일은 8-0으로 승리하였는...   사우디아라비아   \n",
      "8996  일본의 2대 메이커인 토요타와 닛산은 시장 점유율을 높이기 위한 신차 개발을 계속하...       토요타   \n",
      "8997  방호의의 손자 방덕룡(方德龍)은 1588년(선조 21년) 무과에 급제하고 낙안군수로...       방덕룡   \n",
      "8998  LG전자는 올해 초 국내시장에 출시한 2020년형 ‘LG 그램’ 시리즈를 이달부터 ...      LG전자   \n",
      "8999  전남도의회 안전건설소방위원회 차영수 의원(강진1)은 지난 14일 설 명절을 앞두고 ...       차영수   \n",
      "\n",
      "           entity_02  label  \n",
      "0                자동차     17  \n",
      "1                27석      0  \n",
      "2               UEFA      6  \n",
      "3                공격수      2  \n",
      "4          퍼쿤 씨 인트라팃      8  \n",
      "...              ...    ...  \n",
      "8995           2002년      0  \n",
      "8996              일본      9  \n",
      "8997  선무원종공신(宣武原從功臣)      2  \n",
      "8998              북미      0  \n",
      "8999              의원      2  \n",
      "\n",
      "[9000 rows x 4 columns]\n"
     ]
    }
   ],
   "source": [
    "from load_data import *\n",
    "import pandas as pd\n",
    "\n",
    "train_ori = load_data(\"../input/data/train/train.tsv\")\n",
    "print(train_ori)"
   ],
   "metadata": {
    "collapsed": false,
    "pycharm": {
     "name": "#%%\n"
    }
   }
  },
  {
   "cell_type": "code",
   "execution_count": 3,
   "outputs": [],
   "source": [
    "def return_tag(tagging_list, is_first):\n",
    "    tag = ''\n",
    "    if len(tagging_list) != 1:\n",
    "        tagging = [tag[1] for tag in tagging_list if tag[1] != 'O']\n",
    "        if tagging:\n",
    "            tag = ' '.join(list(set(tagging)))\n",
    "        else:\n",
    "            tag = 'o'\n",
    "    else:\n",
    "        tag = tagging_list[0][1]\n",
    "\n",
    "    assert tag != '', 'tagging이 비었다.'\n",
    "\n",
    "    if is_first:\n",
    "        return ' ` ' + tag.lower() + ' ` '\n",
    "    else:\n",
    "        return ' ^ ' + tag.lower() + ' ^ '"
   ],
   "metadata": {
    "collapsed": false,
    "pycharm": {
     "name": "#%%\n"
    }
   }
  },
  {
   "cell_type": "code",
   "execution_count": 5,
   "outputs": [
    {
     "name": "stderr",
     "output_type": "stream",
     "text": [
      "\n",
      "[nltk_data] Downloading package punkt to /opt/ml/nltk_data...\n",
      "[nltk_data]   Unzipping tokenizers/punkt.zip.\n",
      "\n"
     ]
    }
   ],
   "source": [
    "from pororo import Pororo\n",
    "ner = Pororo(task=\"ner\", lang=\"ko\")"
   ],
   "metadata": {
    "collapsed": false,
    "pycharm": {
     "name": "#%%\n"
    }
   }
  },
  {
   "cell_type": "code",
   "execution_count": 9,
   "outputs": [
    {
     "name": "stderr",
     "output_type": "stream",
     "text": [
      "0it [00:00, ?it/s]\n"
     ]
    },
    {
     "name": "stdout",
     "output_type": "stream",
     "text": [
      "sentence     영국에서 사용되는 스포츠 유틸리티 자동차의 브랜드로는 랜드로버(Land Rover)...\n",
      "entity_01                                                 랜드로버\n",
      "entity_02                                                  자동차\n",
      "label                                                       17\n",
      "Name: 0, dtype: object\n",
      " ` organization ` \n",
      " ^ artifact ^ \n"
     ]
    }
   ],
   "source": [
    "from tqdm import tqdm\n",
    "\n",
    "for _, row in tqdm(train_ori.iterrows()):\n",
    "    ner_01 = return_tag(ner(row['entity_01']), True)\n",
    "    ner_02 = return_tag(ner(row['entity_02']), False)\n",
    "    print(row)\n",
    "    print(ner_01)\n",
    "    print(ner_02)\n",
    "    break"
   ],
   "metadata": {
    "collapsed": false,
    "pycharm": {
     "name": "#%%\n"
    }
   }
  }
 ],
 "metadata": {
  "kernelspec": {
   "display_name": "Python 3",
   "language": "python",
   "name": "python3"
  },
  "language_info": {
   "codemirror_mode": {
    "name": "ipython",
    "version": 2
   },
   "file_extension": ".py",
   "mimetype": "text/x-python",
   "name": "python",
   "nbconvert_exporter": "python",
   "pygments_lexer": "ipython2",
   "version": "2.7.6"
  }
 },
 "nbformat": 4,
 "nbformat_minor": 0
}