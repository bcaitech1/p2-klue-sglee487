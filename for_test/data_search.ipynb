{
 "cells": [
  {
   "cell_type": "code",
   "execution_count": 1,
   "outputs": [],
   "source": [
    "%cd code"
   ],
   "metadata": {
    "collapsed": false,
    "pycharm": {
     "name": "#%%\n"
    }
   }
  },
  {
   "cell_type": "code",
   "execution_count": 2,
   "outputs": [
    {
     "data": {
      "text/plain": "                                               sentence entity_01  \\\n0     영국에서 사용되는 스포츠 유틸리티 자동차의 브랜드로는 랜드로버(Land Rover)...      랜드로버   \n1     선거에서 민주당은 해산 전 의석인 230석에 한참 못 미치는 57석(지역구 27석,...       민주당   \n2     유럽 축구 연맹(UEFA) 집행위원회는 2014년 1월 24일에 열린 회의를 통해 ...  유럽 축구 연맹   \n3     용병 공격수 챠디의 부진과 시즌 초 활약한 강수일의 침체, 시즌 중반에 영입한 세르...       강수일   \n4     람캄행 왕은 1237년에서 1247년 사이 수코타이의 왕 퍼쿤 씨 인트라팃과 쓰엉 ...       람캄행   \n...                                                 ...       ...   \n8995  2002년 FIFA 월드컵 사우디아라비아와의 1차전에서 독일은 8-0으로 승리하였는...   사우디아라비아   \n8996  일본의 2대 메이커인 토요타와 닛산은 시장 점유율을 높이기 위한 신차 개발을 계속하...       토요타   \n8997  방호의의 손자 방덕룡(方德龍)은 1588년(선조 21년) 무과에 급제하고 낙안군수로...       방덕룡   \n8998  LG전자는 올해 초 국내시장에 출시한 2020년형 ‘LG 그램’ 시리즈를 이달부터 ...      LG전자   \n8999  전남도의회 안전건설소방위원회 차영수 의원(강진1)은 지난 14일 설 명절을 앞두고 ...       차영수   \n\n           entity_02  label  \n0                자동차     17  \n1                27석      0  \n2               UEFA      6  \n3                공격수      2  \n4          퍼쿤 씨 인트라팃      8  \n...              ...    ...  \n8995           2002년      0  \n8996              일본      9  \n8997  선무원종공신(宣武原從功臣)      2  \n8998              북미      0  \n8999              의원      2  \n\n[9000 rows x 4 columns]",
      "text/html": "<div>\n<style scoped>\n    .dataframe tbody tr th:only-of-type {\n        vertical-align: middle;\n    }\n\n    .dataframe tbody tr th {\n        vertical-align: top;\n    }\n\n    .dataframe thead th {\n        text-align: right;\n    }\n</style>\n<table border=\"1\" class=\"dataframe\">\n  <thead>\n    <tr style=\"text-align: right;\">\n      <th></th>\n      <th>sentence</th>\n      <th>entity_01</th>\n      <th>entity_02</th>\n      <th>label</th>\n    </tr>\n  </thead>\n  <tbody>\n    <tr>\n      <th>0</th>\n      <td>영국에서 사용되는 스포츠 유틸리티 자동차의 브랜드로는 랜드로버(Land Rover)...</td>\n      <td>랜드로버</td>\n      <td>자동차</td>\n      <td>17</td>\n    </tr>\n    <tr>\n      <th>1</th>\n      <td>선거에서 민주당은 해산 전 의석인 230석에 한참 못 미치는 57석(지역구 27석,...</td>\n      <td>민주당</td>\n      <td>27석</td>\n      <td>0</td>\n    </tr>\n    <tr>\n      <th>2</th>\n      <td>유럽 축구 연맹(UEFA) 집행위원회는 2014년 1월 24일에 열린 회의를 통해 ...</td>\n      <td>유럽 축구 연맹</td>\n      <td>UEFA</td>\n      <td>6</td>\n    </tr>\n    <tr>\n      <th>3</th>\n      <td>용병 공격수 챠디의 부진과 시즌 초 활약한 강수일의 침체, 시즌 중반에 영입한 세르...</td>\n      <td>강수일</td>\n      <td>공격수</td>\n      <td>2</td>\n    </tr>\n    <tr>\n      <th>4</th>\n      <td>람캄행 왕은 1237년에서 1247년 사이 수코타이의 왕 퍼쿤 씨 인트라팃과 쓰엉 ...</td>\n      <td>람캄행</td>\n      <td>퍼쿤 씨 인트라팃</td>\n      <td>8</td>\n    </tr>\n    <tr>\n      <th>...</th>\n      <td>...</td>\n      <td>...</td>\n      <td>...</td>\n      <td>...</td>\n    </tr>\n    <tr>\n      <th>8995</th>\n      <td>2002년 FIFA 월드컵 사우디아라비아와의 1차전에서 독일은 8-0으로 승리하였는...</td>\n      <td>사우디아라비아</td>\n      <td>2002년</td>\n      <td>0</td>\n    </tr>\n    <tr>\n      <th>8996</th>\n      <td>일본의 2대 메이커인 토요타와 닛산은 시장 점유율을 높이기 위한 신차 개발을 계속하...</td>\n      <td>토요타</td>\n      <td>일본</td>\n      <td>9</td>\n    </tr>\n    <tr>\n      <th>8997</th>\n      <td>방호의의 손자 방덕룡(方德龍)은 1588년(선조 21년) 무과에 급제하고 낙안군수로...</td>\n      <td>방덕룡</td>\n      <td>선무원종공신(宣武原從功臣)</td>\n      <td>2</td>\n    </tr>\n    <tr>\n      <th>8998</th>\n      <td>LG전자는 올해 초 국내시장에 출시한 2020년형 ‘LG 그램’ 시리즈를 이달부터 ...</td>\n      <td>LG전자</td>\n      <td>북미</td>\n      <td>0</td>\n    </tr>\n    <tr>\n      <th>8999</th>\n      <td>전남도의회 안전건설소방위원회 차영수 의원(강진1)은 지난 14일 설 명절을 앞두고 ...</td>\n      <td>차영수</td>\n      <td>의원</td>\n      <td>2</td>\n    </tr>\n  </tbody>\n</table>\n<p>9000 rows × 4 columns</p>\n</div>"
     },
     "execution_count": 2,
     "metadata": {},
     "output_type": "execute_result"
    }
   ],
   "source": [
    "from load_data import *\n",
    "train_ori = load_data(\"../input/data/train/train.tsv\")\n",
    "train_plus = load_data(\"../input/data/train/train+all.tsv\")\n",
    "train_ori"
   ],
   "metadata": {
    "collapsed": false,
    "pycharm": {
     "name": "#%%\n"
    }
   }
  },
  {
   "cell_type": "code",
   "execution_count": 4,
   "outputs": [
    {
     "data": {
      "text/plain": "                                                 sentence entity_01  \\\n0       영국에서 사용되는 스포츠 유틸리티 자동차의 브랜드로는 랜드로버(Land Rover)...      랜드로버   \n1       선거에서 민주당은 해산 전 의석인 230석에 한참 못 미치는 57석(지역구 27석,...       민주당   \n2       유럽 축구 연맹(UEFA) 집행위원회는 2014년 1월 24일에 열린 회의를 통해 ...  유럽 축구 연맹   \n3       용병 공격수 챠디의 부진과 시즌 초 활약한 강수일의 침체, 시즌 중반에 영입한 세르...       강수일   \n4       람캄행 왕은 1237년에서 1247년 사이 수코타이의 왕 퍼쿤 씨 인트라팃과 쓰엉 ...       람캄행   \n...                                                   ...       ...   \n238541                2. \"사슴여인\" (박건호 작사 / 계동균 작곡) – 03:24       박건호   \n238542               9. \"안녕히 계세요\" (장덕 작사 / 장덕 작곡) - 02:06        장덕   \n238543  2009년, 블런트는 장마크 발레가 감독을 맡고 줄리언 펠로스가 각본을 쓴 《영 빅...   줄리언 펠로스   \n238544  2008년 저드 애퍼토가 제작하고 세스 로건과 에번 골드버그가 각본을 맡은 코미디 ...   에번 골드버그   \n238545  영화 《라이터를 켜라》,《귀신이 산다》의 장항준, 《그해 여름》의 김은희 작가가 공...       장항준   \n\n         entity_02  label  \n0              자동차     17  \n1              27석      0  \n2             UEFA      6  \n3              공격수      2  \n4        퍼쿤 씨 인트라팃      8  \n...            ...    ...  \n238541        사슴여인     22  \n238542     안녕히 계세요     22  \n238543      영 빅토리아     22  \n238544  파인애플 익스프레스     22  \n238545      귀신이 산다     22  \n\n[238546 rows x 4 columns]",
      "text/html": "<div>\n<style scoped>\n    .dataframe tbody tr th:only-of-type {\n        vertical-align: middle;\n    }\n\n    .dataframe tbody tr th {\n        vertical-align: top;\n    }\n\n    .dataframe thead th {\n        text-align: right;\n    }\n</style>\n<table border=\"1\" class=\"dataframe\">\n  <thead>\n    <tr style=\"text-align: right;\">\n      <th></th>\n      <th>sentence</th>\n      <th>entity_01</th>\n      <th>entity_02</th>\n      <th>label</th>\n    </tr>\n  </thead>\n  <tbody>\n    <tr>\n      <th>0</th>\n      <td>영국에서 사용되는 스포츠 유틸리티 자동차의 브랜드로는 랜드로버(Land Rover)...</td>\n      <td>랜드로버</td>\n      <td>자동차</td>\n      <td>17</td>\n    </tr>\n    <tr>\n      <th>1</th>\n      <td>선거에서 민주당은 해산 전 의석인 230석에 한참 못 미치는 57석(지역구 27석,...</td>\n      <td>민주당</td>\n      <td>27석</td>\n      <td>0</td>\n    </tr>\n    <tr>\n      <th>2</th>\n      <td>유럽 축구 연맹(UEFA) 집행위원회는 2014년 1월 24일에 열린 회의를 통해 ...</td>\n      <td>유럽 축구 연맹</td>\n      <td>UEFA</td>\n      <td>6</td>\n    </tr>\n    <tr>\n      <th>3</th>\n      <td>용병 공격수 챠디의 부진과 시즌 초 활약한 강수일의 침체, 시즌 중반에 영입한 세르...</td>\n      <td>강수일</td>\n      <td>공격수</td>\n      <td>2</td>\n    </tr>\n    <tr>\n      <th>4</th>\n      <td>람캄행 왕은 1237년에서 1247년 사이 수코타이의 왕 퍼쿤 씨 인트라팃과 쓰엉 ...</td>\n      <td>람캄행</td>\n      <td>퍼쿤 씨 인트라팃</td>\n      <td>8</td>\n    </tr>\n    <tr>\n      <th>...</th>\n      <td>...</td>\n      <td>...</td>\n      <td>...</td>\n      <td>...</td>\n    </tr>\n    <tr>\n      <th>238541</th>\n      <td>2. \"사슴여인\" (박건호 작사 / 계동균 작곡) – 03:24</td>\n      <td>박건호</td>\n      <td>사슴여인</td>\n      <td>22</td>\n    </tr>\n    <tr>\n      <th>238542</th>\n      <td>9. \"안녕히 계세요\" (장덕 작사 / 장덕 작곡) - 02:06</td>\n      <td>장덕</td>\n      <td>안녕히 계세요</td>\n      <td>22</td>\n    </tr>\n    <tr>\n      <th>238543</th>\n      <td>2009년, 블런트는 장마크 발레가 감독을 맡고 줄리언 펠로스가 각본을 쓴 《영 빅...</td>\n      <td>줄리언 펠로스</td>\n      <td>영 빅토리아</td>\n      <td>22</td>\n    </tr>\n    <tr>\n      <th>238544</th>\n      <td>2008년 저드 애퍼토가 제작하고 세스 로건과 에번 골드버그가 각본을 맡은 코미디 ...</td>\n      <td>에번 골드버그</td>\n      <td>파인애플 익스프레스</td>\n      <td>22</td>\n    </tr>\n    <tr>\n      <th>238545</th>\n      <td>영화 《라이터를 켜라》,《귀신이 산다》의 장항준, 《그해 여름》의 김은희 작가가 공...</td>\n      <td>장항준</td>\n      <td>귀신이 산다</td>\n      <td>22</td>\n    </tr>\n  </tbody>\n</table>\n<p>238546 rows × 4 columns</p>\n</div>"
     },
     "execution_count": 4,
     "metadata": {},
     "output_type": "execute_result"
    }
   ],
   "source": [
    "train_plus"
   ],
   "metadata": {
    "collapsed": false,
    "pycharm": {
     "name": "#%%\n"
    }
   }
  },
  {
   "cell_type": "code",
   "execution_count": 7,
   "outputs": [
    {
     "data": {
      "text/plain": "                                               sentence entity_01  \\\n0     영국에서 사용되는 스포츠 유틸리티 @ α ARTIFACT α 자동차@의 브랜드로는 ...      랜드로버   \n1     선거에서 # β ORGANIZATION β 민주당#은 해산 전 의석인 230석에 한...       민주당   \n2     # β ORGANIZATION β 유럽 축구 연맹#(@ α ORGANIZATION ...  유럽 축구 연맹   \n3     용병 @ α CIVILIZATION α 공격수@ 챠디의 부진과 시즌 초 활약한 # ...       강수일   \n4     # β LOCATION β 람캄행# 왕은 1237년에서 1247년 사이 수코타이의 ...       람캄행   \n...                                                 ...       ...   \n8995  @ α DATE α 2002년@ FIFA 월드컵 # β COUNTRY β 사우디아라...   사우디아라비아   \n8996  @ α COUNTRY α 일본@의 2대 메이커인 # β ORGANIZATION β ...       토요타   \n8997  방호의의 손자 # β PERSON β 방덕룡#(方德龍)은 1588년(선조 21년) ...       방덕룡   \n8998  # β ORGANIZATION β LG전자#는 올해 초 국내시장에 출시한 2020년...      LG전자   \n8999  전남도의회 안전건설소방위원회 # β PERSON β 차영수# @ α OCCUPATI...       차영수   \n\n           entity_02  label  \n0                자동차     17  \n1                27석      0  \n2               UEFA      6  \n3                공격수      2  \n4          퍼쿤 씨 인트라팃      8  \n...              ...    ...  \n8995           2002년      0  \n8996              일본      9  \n8997  선무원종공신(宣武原從功臣)      2  \n8998              북미      0  \n8999              의원      2  \n\n[9000 rows x 4 columns]",
      "text/html": "<div>\n<style scoped>\n    .dataframe tbody tr th:only-of-type {\n        vertical-align: middle;\n    }\n\n    .dataframe tbody tr th {\n        vertical-align: top;\n    }\n\n    .dataframe thead th {\n        text-align: right;\n    }\n</style>\n<table border=\"1\" class=\"dataframe\">\n  <thead>\n    <tr style=\"text-align: right;\">\n      <th></th>\n      <th>sentence</th>\n      <th>entity_01</th>\n      <th>entity_02</th>\n      <th>label</th>\n    </tr>\n  </thead>\n  <tbody>\n    <tr>\n      <th>0</th>\n      <td>영국에서 사용되는 스포츠 유틸리티 @ α ARTIFACT α 자동차@의 브랜드로는 ...</td>\n      <td>랜드로버</td>\n      <td>자동차</td>\n      <td>17</td>\n    </tr>\n    <tr>\n      <th>1</th>\n      <td>선거에서 # β ORGANIZATION β 민주당#은 해산 전 의석인 230석에 한...</td>\n      <td>민주당</td>\n      <td>27석</td>\n      <td>0</td>\n    </tr>\n    <tr>\n      <th>2</th>\n      <td># β ORGANIZATION β 유럽 축구 연맹#(@ α ORGANIZATION ...</td>\n      <td>유럽 축구 연맹</td>\n      <td>UEFA</td>\n      <td>6</td>\n    </tr>\n    <tr>\n      <th>3</th>\n      <td>용병 @ α CIVILIZATION α 공격수@ 챠디의 부진과 시즌 초 활약한 # ...</td>\n      <td>강수일</td>\n      <td>공격수</td>\n      <td>2</td>\n    </tr>\n    <tr>\n      <th>4</th>\n      <td># β LOCATION β 람캄행# 왕은 1237년에서 1247년 사이 수코타이의 ...</td>\n      <td>람캄행</td>\n      <td>퍼쿤 씨 인트라팃</td>\n      <td>8</td>\n    </tr>\n    <tr>\n      <th>...</th>\n      <td>...</td>\n      <td>...</td>\n      <td>...</td>\n      <td>...</td>\n    </tr>\n    <tr>\n      <th>8995</th>\n      <td>@ α DATE α 2002년@ FIFA 월드컵 # β COUNTRY β 사우디아라...</td>\n      <td>사우디아라비아</td>\n      <td>2002년</td>\n      <td>0</td>\n    </tr>\n    <tr>\n      <th>8996</th>\n      <td>@ α COUNTRY α 일본@의 2대 메이커인 # β ORGANIZATION β ...</td>\n      <td>토요타</td>\n      <td>일본</td>\n      <td>9</td>\n    </tr>\n    <tr>\n      <th>8997</th>\n      <td>방호의의 손자 # β PERSON β 방덕룡#(方德龍)은 1588년(선조 21년) ...</td>\n      <td>방덕룡</td>\n      <td>선무원종공신(宣武原從功臣)</td>\n      <td>2</td>\n    </tr>\n    <tr>\n      <th>8998</th>\n      <td># β ORGANIZATION β LG전자#는 올해 초 국내시장에 출시한 2020년...</td>\n      <td>LG전자</td>\n      <td>북미</td>\n      <td>0</td>\n    </tr>\n    <tr>\n      <th>8999</th>\n      <td>전남도의회 안전건설소방위원회 # β PERSON β 차영수# @ α OCCUPATI...</td>\n      <td>차영수</td>\n      <td>의원</td>\n      <td>2</td>\n    </tr>\n  </tbody>\n</table>\n<p>9000 rows × 4 columns</p>\n</div>"
     },
     "execution_count": 7,
     "metadata": {},
     "output_type": "execute_result"
    }
   ],
   "source": [
    "import pandas as pd\n",
    "\n",
    "train_ner2 = pd.read_csv(\"../input/data/train/ner_train_ver2.tsv\", delimiter='\\t')\n",
    "train_ner2"
   ],
   "metadata": {
    "collapsed": false,
    "pycharm": {
     "name": "#%%\n"
    }
   }
  },
  {
   "cell_type": "code",
   "execution_count": null,
   "outputs": [],
   "source": [],
   "metadata": {
    "collapsed": false,
    "pycharm": {
     "name": "#%%\n"
    }
   }
  }
 ],
 "metadata": {
  "kernelspec": {
   "display_name": "Python 3",
   "language": "python",
   "name": "python3"
  },
  "language_info": {
   "codemirror_mode": {
    "name": "ipython",
    "version": 2
   },
   "file_extension": ".py",
   "mimetype": "text/x-python",
   "name": "python",
   "nbconvert_exporter": "python",
   "pygments_lexer": "ipython2",
   "version": "2.7.6"
  }
 },
 "nbformat": 4,
 "nbformat_minor": 0
}