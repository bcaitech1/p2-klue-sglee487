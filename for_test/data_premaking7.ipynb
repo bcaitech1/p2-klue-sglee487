{
 "cells": [
  {
   "cell_type": "code",
   "execution_count": 1,
   "metadata": {
    "collapsed": true
   },
   "outputs": [
    {
     "name": "stdout",
     "output_type": "stream",
     "text": [
      "/opt/ml/code\n"
     ]
    }
   ],
   "source": [
    "%cd code"
   ]
  },
  {
   "cell_type": "code",
   "execution_count": 2,
   "outputs": [
    {
     "name": "stdout",
     "output_type": "stream",
     "text": [
      "                                               sentence entity_01  \\\n",
      "0     영국에서 사용되는 스포츠 유틸리티 자동차의 브랜드로는 랜드로버(Land Rover)...      랜드로버   \n",
      "1     선거에서 민주당은 해산 전 의석인 230석에 한참 못 미치는 57석(지역구 27석,...       민주당   \n",
      "2     유럽 축구 연맹(UEFA) 집행위원회는 2014년 1월 24일에 열린 회의를 통해 ...  유럽 축구 연맹   \n",
      "3     용병 공격수 챠디의 부진과 시즌 초 활약한 강수일의 침체, 시즌 중반에 영입한 세르...       강수일   \n",
      "4     람캄행 왕은 1237년에서 1247년 사이 수코타이의 왕 퍼쿤 씨 인트라팃과 쓰엉 ...       람캄행   \n",
      "...                                                 ...       ...   \n",
      "8995  2002년 FIFA 월드컵 사우디아라비아와의 1차전에서 독일은 8-0으로 승리하였는...   사우디아라비아   \n",
      "8996  일본의 2대 메이커인 토요타와 닛산은 시장 점유율을 높이기 위한 신차 개발을 계속하...       토요타   \n",
      "8997  방호의의 손자 방덕룡(方德龍)은 1588년(선조 21년) 무과에 급제하고 낙안군수로...       방덕룡   \n",
      "8998  LG전자는 올해 초 국내시장에 출시한 2020년형 ‘LG 그램’ 시리즈를 이달부터 ...      LG전자   \n",
      "8999  전남도의회 안전건설소방위원회 차영수 의원(강진1)은 지난 14일 설 명절을 앞두고 ...       차영수   \n",
      "\n",
      "           entity_02  label  \n",
      "0                자동차     17  \n",
      "1                27석      0  \n",
      "2               UEFA      6  \n",
      "3                공격수      2  \n",
      "4          퍼쿤 씨 인트라팃      8  \n",
      "...              ...    ...  \n",
      "8995           2002년      0  \n",
      "8996              일본      9  \n",
      "8997  선무원종공신(宣武原從功臣)      2  \n",
      "8998              북미      0  \n",
      "8999              의원      2  \n",
      "\n",
      "[9000 rows x 4 columns]\n",
      "                                                 sentence entity_01  \\\n",
      "0                      함석헌 은 1901 년  평안북도 용천 에서 출생 했 다 .        함석헌   \n",
      "1        토마스 만 은 평의원 이 며 곡물 상인 이 었 던 토마스 요한 하인리히 만 과 율...     토마스 만   \n",
      "2        하인리히 뵐 ( Heinrich B ö ll , 쾰른 , 1917 년 12 월 2...    하인리히 뵐   \n",
      "3        하인리히 뵐 ( Heinrich B ö ll , 쾰른 , 1917 년 12 월 2...    하인리히 뵐   \n",
      "4       노무현 은 ' 1986 년  부산광역시 에서 송기인 신부 로부터 영세 를 받 아 '...       송기인   \n",
      "...                                                   ...       ...   \n",
      "280506                2. \"사슴여인\" (박건호 작사 / 계동균 작곡) – 03:24       박건호   \n",
      "280507               9. \"안녕히 계세요\" (장덕 작사 / 장덕 작곡) - 02:06        장덕   \n",
      "280508  2009년, 블런트는 장마크 발레가 감독을 맡고 줄리언 펠로스가 각본을 쓴 《영 빅...   줄리언 펠로스   \n",
      "280509  2008년 저드 애퍼토가 제작하고 세스 로건과 에번 골드버그가 각본을 맡은 코미디 ...   에번 골드버그   \n",
      "280510  영화 《라이터를 켜라》,《귀신이 산다》의 장항준, 《그해 여름》의 김은희 작가가 공...       장항준   \n",
      "\n",
      "         entity_02  label  \n",
      "0             평안북도     19  \n",
      "1              뤼베크     19  \n",
      "2           랑엔브로이히     19  \n",
      "3               쾰른     19  \n",
      "4            부산광역시     19  \n",
      "...            ...    ...  \n",
      "280506        사슴여인     22  \n",
      "280507     안녕히 계세요     22  \n",
      "280508      영 빅토리아     22  \n",
      "280509  파인애플 익스프레스     22  \n",
      "280510      귀신이 산다     22  \n",
      "\n",
      "[280511 rows x 4 columns]\n",
      "                                                 sentence    entity_01  \\\n",
      "0                    김일성 , 김정일 , 김정은 의 본인 또는 아내 와 관련 된 자           김정은   \n",
      "1        캐리 우러 ( Kari W ü hrer , 1967 년 6 월 2 일 ~ ) 는 ...        캐리 우러   \n",
      "2       1926 년 3 월 3 일  덕혜옹주 는 영친왕 내외 와 같이 귀국 하 여 대한제국...      대한제국 순종   \n",
      "3        이본 리딩 ( Yvonne Ryding , 1962 년 12 월 24 일 ~ ) ...        이본 리딩   \n",
      "4       《 별이 빛나는 밤 》 은 네덜란드 의 화가 빈센트 반 고흐 의 가장 널리 알려 진...     빈센트 반 고흐   \n",
      "...                                                   ...          ...   \n",
      "280506            이은규 는 문화방송 소속 의 대한민국 드라마 연출 프로듀서 이 다 .           이은규   \n",
      "280507   탄융린 ( 譚詠麟 , 담영린 , 영 문명 은 Alan Tam , 1950 년 8 ...          탄융린   \n",
      "280508  건륭 ( 乾隆 ) 은 청나라 고종 건륭제 의 연호 로 1736 년 부터 1795 년...          청나라   \n",
      "280509   리투아니아 사회민주당 ( 리투아니아 社會民主黨 , ) 은 리투아니아 의 사회민주주...  리투아니아 사회민주당   \n",
      "280510  박동욱 ( 朴東煜 , 1985 ~ ) 은 대한민국 의 야구 선수 박건우 ( 朴健堣 ...          박건우   \n",
      "\n",
      "       entity_02  label  \n",
      "0            김일성     11  \n",
      "1             미국      7  \n",
      "2           덕혜옹주     11  \n",
      "3            스웨덴      7  \n",
      "4       별이 빛나는 밤     22  \n",
      "...          ...    ...  \n",
      "280506      대한민국     26  \n",
      "280507    싱어송라이터      2  \n",
      "280508       건륭제     10  \n",
      "280509    사회민주주의     38  \n",
      "280510      대한민국      7  \n",
      "\n",
      "[280511 rows x 4 columns]\n"
     ]
    }
   ],
   "source": [
    "from load_data import *\n",
    "import pandas as pd\n",
    "\n",
    "train_ori = load_data(\"../input/data/train/train.tsv\")\n",
    "print(train_ori)\n",
    "boddin_add = pd.read_csv(\"../input/data/train/all+bodi.tsv\", delimiter='\\t')\n",
    "print(boddin_add)\n",
    "boddin_add=boddin_add.sample(frac=1).reset_index(drop=True)\n",
    "print(boddin_add)"
   ],
   "metadata": {
    "collapsed": false,
    "pycharm": {
     "name": "#%%\n"
    }
   }
  },
  {
   "cell_type": "code",
   "execution_count": 3,
   "outputs": [
    {
     "name": "stdout",
     "output_type": "stream",
     "text": [
      "       sentence  entity_01  entity_02\n",
      "label                                \n",
      "0          4438       4438       4438\n",
      "1            92         92         92\n",
      "2           553        553        553\n",
      "3            44         44         44\n",
      "4           679        679        679\n",
      "5           186        186        186\n",
      "6           231        231        231\n",
      "7           209        209        209\n",
      "8           164        164        164\n",
      "9           115        115        115\n",
      "10          815        815        815\n",
      "11           58         58         58\n",
      "12           45         45         45\n",
      "13           11         11         11\n",
      "14           45         45         45\n",
      "15          335        335        335\n",
      "16           23         23         23\n",
      "17          169        169        169\n",
      "18            7          7          7\n",
      "19            4          4          4\n",
      "20          136        136        136\n",
      "21           84         84         84\n",
      "22           56         56         56\n",
      "23           79         79         79\n",
      "24          103        103        103\n",
      "25           52         52         52\n",
      "26            8          8          8\n",
      "27           36         36         36\n",
      "28            9          9          9\n",
      "29            5          5          5\n",
      "30           12         12         12\n",
      "31           15         15         15\n",
      "32           26         26         26\n",
      "33           67         67         67\n",
      "34           15         15         15\n",
      "35           27         27         27\n",
      "36           11         11         11\n",
      "37            3          3          3\n",
      "38           18         18         18\n",
      "39            9          9          9\n",
      "40            1          1          1\n",
      "41            5          5          5\n",
      "       sentence  entity_01  entity_02\n",
      "label                                \n",
      "1         11205      11205      11205\n",
      "2         34615      34615      34615\n",
      "4           875        875        875\n",
      "7         77850      77850      77850\n",
      "8          4566       4566       4566\n",
      "10        13779      13779      13779\n",
      "11         9650       9650       9650\n",
      "12          124        124        124\n",
      "15         3436       3436       3436\n",
      "17        15039      15039      15039\n",
      "19        15402      15402      15402\n",
      "21        10461      10461      10461\n",
      "22        16601      16601      16601\n",
      "26        28037      28037      28037\n",
      "33        27757      27757      27757\n",
      "37          551        551        551\n",
      "38         1591       1591       1591\n",
      "39         2062       2062       2062\n",
      "40         6910       6910       6910\n"
     ]
    }
   ],
   "source": [
    "print(train_ori.groupby('label').count())\n",
    "print(boddin_add.groupby('label').count())"
   ],
   "metadata": {
    "collapsed": false,
    "pycharm": {
     "name": "#%%\n"
    }
   }
  },
  {
   "cell_type": "code",
   "execution_count": 4,
   "outputs": [
    {
     "data": {
      "text/plain": "<AxesSubplot:xlabel='label', ylabel='Count'>"
     },
     "execution_count": 4,
     "metadata": {},
     "output_type": "execute_result"
    },
    {
     "data": {
      "text/plain": "<Figure size 432x288 with 1 Axes>",
      "image/png": "[encoded data removed]"
     },
     "metadata": {
      "needs_background": "light"
     },
     "output_type": "display_data"
    }
   ],
   "source": [
    "import seaborn as sns\n",
    "\n",
    "sns.histplot(train_ori['label'])"
   ],
   "metadata": {
    "collapsed": false,
    "pycharm": {
     "name": "#%%\n"
    }
   }
  },
  {
   "cell_type": "code",
   "execution_count": 5,
   "outputs": [
    {
     "data": {
      "text/plain": "<AxesSubplot:xlabel='label', ylabel='Count'>"
     },
     "execution_count": 5,
     "metadata": {},
     "output_type": "execute_result"
    },
    {
     "data": {
      "text/plain": "<Figure size 432x288 with 1 Axes>",
      "image/png": "[encoded data removed]"
     },
     "metadata": {
      "needs_background": "light"
     },
     "output_type": "display_data"
    }
   ],
   "source": [
    "sns.histplot(boddin_add['label'])"
   ],
   "metadata": {
    "collapsed": false,
    "pycharm": {
     "name": "#%%\n"
    }
   }
  },
  {
   "cell_type": "code",
   "execution_count": 6,
   "outputs": [
    {
     "name": "stdout",
     "output_type": "stream",
     "text": [
      "       sentence  entity_01  entity_02     ratio     mul\n",
      "label                                                  \n",
      "0          4438       4438       4438  0.493111  1775.2\n",
      "1            92         92         92  0.010222    36.8\n",
      "2           553        553        553  0.061444   221.2\n",
      "3            44         44         44  0.004889    17.6\n",
      "4           679        679        679  0.075444   271.6\n",
      "5           186        186        186  0.020667    74.4\n",
      "6           231        231        231  0.025667    92.4\n",
      "7           209        209        209  0.023222    83.6\n",
      "8           164        164        164  0.018222    65.6\n",
      "9           115        115        115  0.012778    46.0\n",
      "10          815        815        815  0.090556   326.0\n",
      "11           58         58         58  0.006444    23.2\n",
      "12           45         45         45  0.005000    18.0\n",
      "13           11         11         11  0.001222     4.4\n",
      "14           45         45         45  0.005000    18.0\n",
      "15          335        335        335  0.037222   134.0\n",
      "16           23         23         23  0.002556     9.2\n",
      "17          169        169        169  0.018778    67.6\n",
      "18            7          7          7  0.000778     2.8\n",
      "19            4          4          4  0.000444     1.6\n",
      "20          136        136        136  0.015111    54.4\n",
      "21           84         84         84  0.009333    33.6\n",
      "22           56         56         56  0.006222    22.4\n",
      "23           79         79         79  0.008778    31.6\n",
      "24          103        103        103  0.011444    41.2\n",
      "25           52         52         52  0.005778    20.8\n",
      "26            8          8          8  0.000889     3.2\n",
      "27           36         36         36  0.004000    14.4\n",
      "28            9          9          9  0.001000     3.6\n",
      "29            5          5          5  0.000556     2.0\n",
      "30           12         12         12  0.001333     4.8\n",
      "31           15         15         15  0.001667     6.0\n",
      "32           26         26         26  0.002889    10.4\n",
      "33           67         67         67  0.007444    26.8\n",
      "34           15         15         15  0.001667     6.0\n",
      "35           27         27         27  0.003000    10.8\n",
      "36           11         11         11  0.001222     4.4\n",
      "37            3          3          3  0.000333     1.2\n",
      "38           18         18         18  0.002000     7.2\n",
      "39            9          9          9  0.001000     3.6\n",
      "40            1          1          1  0.000111     0.4\n",
      "41            5          5          5  0.000556     2.0\n"
     ]
    },
    {
     "data": {
      "text/plain": "<AxesSubplot:xlabel='label', ylabel='Count'>"
     },
     "execution_count": 6,
     "metadata": {},
     "output_type": "execute_result"
    },
    {
     "data": {
      "text/plain": "<Figure size 432x288 with 1 Axes>",
      "image/png": "[encoded data removed]"
     },
     "metadata": {
      "needs_background": "light"
     },
     "output_type": "display_data"
    }
   ],
   "source": [
    "train_ratio = train_ori.groupby('label').count()\n",
    "train_ratio['ratio'] = train_ratio['sentence'] / len(train_ori)\n",
    "train_ratio['mul'] = train_ratio['sentence'] * 0.4\n",
    "print(train_ratio)\n",
    "sns.histplot(train_ori['label'])"
   ],
   "metadata": {
    "collapsed": false,
    "pycharm": {
     "name": "#%%\n"
    }
   }
  },
  {
   "cell_type": "code",
   "execution_count": 7,
   "outputs": [],
   "source": [
    "target_countl = list(train_ratio['mul'])"
   ],
   "metadata": {
    "collapsed": false,
    "pycharm": {
     "name": "#%%\n"
    }
   }
  },
  {
   "cell_type": "code",
   "execution_count": 8,
   "outputs": [],
   "source": [
    "import copy\n",
    "\n",
    "boddin_add_cut = copy.deepcopy(boddin_add)"
   ],
   "metadata": {
    "collapsed": false,
    "pycharm": {
     "name": "#%%\n"
    }
   }
  },
  {
   "cell_type": "code",
   "execution_count": 9,
   "outputs": [],
   "source": [
    "def show_hist(boddin_add_cut):\n",
    "    ratio = boddin_add_cut.groupby('label').count()\n",
    "    ratio['ratio'] = ratio['sentence'] / len(boddin_add_cut)\n",
    "    print(ratio)\n",
    "    sns.histplot(boddin_add_cut['label'])"
   ],
   "metadata": {
    "collapsed": false,
    "pycharm": {
     "name": "#%%\n"
    }
   }
  },
  {
   "cell_type": "code",
   "execution_count": 10,
   "outputs": [],
   "source": [
    "add_countl = [0] * len(target_countl)\n",
    "add_list = []"
   ],
   "metadata": {
    "collapsed": false,
    "pycharm": {
     "name": "#%%\n"
    }
   }
  },
  {
   "cell_type": "code",
   "execution_count": 11,
   "outputs": [
    {
     "name": "stderr",
     "output_type": "stream",
     "text": [
      "100%|██████████| 280511/280511 [00:28<00:00, 9773.54it/s] \n"
     ]
    },
    {
     "name": "stdout",
     "output_type": "stream",
     "text": [
      "       sentence  entity_01  entity_02     ratio\n",
      "label                                          \n",
      "1         11168      11168      11168  0.040006\n",
      "2         34393      34393      34393  0.123204\n",
      "4           603        603        603  0.002160\n",
      "7         77766      77766      77766  0.278576\n",
      "8          4500       4500       4500  0.016120\n",
      "10        13453      13453      13453  0.048192\n",
      "11         9626       9626       9626  0.034483\n",
      "12          106        106        106  0.000380\n",
      "15         3302       3302       3302  0.011829\n",
      "17        14971      14971      14971  0.053630\n",
      "19        15400      15400      15400  0.055166\n",
      "21        10427      10427      10427  0.037352\n",
      "22        16578      16578      16578  0.059386\n",
      "26        28033      28033      28033  0.100421\n",
      "33        27730      27730      27730  0.099335\n",
      "37          549        549        549  0.001967\n",
      "38         1583       1583       1583  0.005671\n",
      "39         2058       2058       2058  0.007372\n",
      "40         6909       6909       6909  0.024750\n"
     ]
    },
    {
     "data": {
      "text/plain": "<Figure size 432x288 with 1 Axes>",
      "image/png": "[encoded data removed]"
     },
     "metadata": {
      "needs_background": "light"
     },
     "output_type": "display_data"
    }
   ],
   "source": [
    "from tqdm import tqdm\n",
    "\n",
    "\n",
    "delete_list = []\n",
    "for index, (sentence, entity_01, entity_02, label) in tqdm(boddin_add_cut.iterrows(),total=len(boddin_add_cut)):\n",
    "    if add_countl[label] < target_countl[label]:\n",
    "        add_countl[label] += 1\n",
    "        add_list.append(boddin_add_cut.loc[index])\n",
    "        delete_list.append(index)\n",
    "boddin_add_cut = boddin_add_cut.drop(delete_list)\n",
    "\n",
    "show_hist(boddin_add_cut)"
   ],
   "metadata": {
    "collapsed": false,
    "pycharm": {
     "name": "#%%\n"
    }
   }
  },
  {
   "cell_type": "code",
   "execution_count": 12,
   "outputs": [
    {
     "name": "stdout",
     "output_type": "stream",
     "text": [
      "       sentence  entity_01  entity_02     ratio\n",
      "label                                          \n",
      "1            37         37         37  0.027286\n",
      "2           222        222        222  0.163717\n",
      "4           272        272        272  0.200590\n",
      "7            84         84         84  0.061947\n",
      "8            66         66         66  0.048673\n",
      "10          326        326        326  0.240413\n",
      "11           24         24         24  0.017699\n",
      "12           18         18         18  0.013274\n",
      "15          134        134        134  0.098820\n",
      "17           68         68         68  0.050147\n",
      "19            2          2          2  0.001475\n",
      "21           34         34         34  0.025074\n",
      "22           23         23         23  0.016962\n",
      "26            4          4          4  0.002950\n",
      "33           27         27         27  0.019912\n",
      "37            2          2          2  0.001475\n",
      "38            8          8          8  0.005900\n",
      "39            4          4          4  0.002950\n",
      "40            1          1          1  0.000737\n"
     ]
    },
    {
     "data": {
      "text/plain": "<Figure size 432x288 with 1 Axes>",
      "image/png": "[encoded data removed]"
     },
     "metadata": {
      "needs_background": "light"
     },
     "output_type": "display_data"
    }
   ],
   "source": [
    "show_hist(pd.DataFrame(add_list))"
   ],
   "metadata": {
    "collapsed": false,
    "pycharm": {
     "name": "#%%\n"
    }
   }
  },
  {
   "cell_type": "code",
   "execution_count": 13,
   "outputs": [],
   "source": [
    "boddin_add_cut = pd.DataFrame(add_list)\n",
    "boddin_add_cut.to_csv('../input/data/train/all+bodi_5.tsv', index=False, sep='\\t')"
   ],
   "metadata": {
    "collapsed": false,
    "pycharm": {
     "name": "#%%\n"
    }
   }
  },
  {
   "cell_type": "code",
   "execution_count": 14,
   "outputs": [],
   "source": [
    "train_boddin_add_cut = pd.concat([train_ori,boddin_add_cut])\n",
    "train_boddin_add_cut.to_csv('../input/data/train/train+all+bodi_5.tsv', index=False, sep='\\t')"
   ],
   "metadata": {
    "collapsed": false,
    "pycharm": {
     "name": "#%%\n"
    }
   }
  },
  {
   "cell_type": "code",
   "execution_count": 15,
   "outputs": [
    {
     "data": {
      "text/plain": "                                                sentence entity_01  \\\n0      영국에서 사용되는 스포츠 유틸리티 자동차의 브랜드로는 랜드로버(Land Rover)...      랜드로버   \n1      선거에서 민주당은 해산 전 의석인 230석에 한참 못 미치는 57석(지역구 27석,...       민주당   \n2      유럽 축구 연맹(UEFA) 집행위원회는 2014년 1월 24일에 열린 회의를 통해 ...  유럽 축구 연맹   \n3      용병 공격수 챠디의 부진과 시즌 초 활약한 강수일의 침체, 시즌 중반에 영입한 세르...       강수일   \n4      람캄행 왕은 1237년에서 1247년 사이 수코타이의 왕 퍼쿤 씨 인트라팃과 쓰엉 ...       람캄행   \n...                                                  ...       ...   \n10351  하켄크로이츠()는 아돌프 히틀러에 의해 국가사회주의 독일 노동자당의 당기로 제정되었...   아돌프 히틀러   \n10352   1924년 쑨원의 권유로 중국 국민당에 가입하는 한편, 제1차 국공합작에도 참여해...        쑨원   \n10353  이후 김영삼에 의해 새로 발탁된 인사들과 함께 신한국당 소장파의 한 사람으로 활동하였다.       김영삼   \n10354  1928년부터 1949년까지의 장제스의 중국 국민당 통치 기간에 전장은 장쑤 성의 ...       장제스   \n10355            현 지역구 국회의원은 더불어민주당의 민병두 (3선, 2012년~)이다.       민병두   \n\n            entity_02  label  \n0                 자동차     17  \n1                 27석      0  \n2                UEFA      6  \n3                 공격수      2  \n4           퍼쿤 씨 인트라팃      8  \n...               ...    ...  \n10351  국가사회주의 독일 노동자당      4  \n10352          중국 국민당      4  \n10353            신한국당      4  \n10354          중국 국민당      4  \n10355          더불어민주당      4  \n\n[10356 rows x 4 columns]",
      "text/html": "<div>\n<style scoped>\n    .dataframe tbody tr th:only-of-type {\n        vertical-align: middle;\n    }\n\n    .dataframe tbody tr th {\n        vertical-align: top;\n    }\n\n    .dataframe thead th {\n        text-align: right;\n    }\n</style>\n<table border=\"1\" class=\"dataframe\">\n  <thead>\n    <tr style=\"text-align: right;\">\n      <th></th>\n      <th>sentence</th>\n      <th>entity_01</th>\n      <th>entity_02</th>\n      <th>label</th>\n    </tr>\n  </thead>\n  <tbody>\n    <tr>\n      <th>0</th>\n      <td>영국에서 사용되는 스포츠 유틸리티 자동차의 브랜드로는 랜드로버(Land Rover)...</td>\n      <td>랜드로버</td>\n      <td>자동차</td>\n      <td>17</td>\n    </tr>\n    <tr>\n      <th>1</th>\n      <td>선거에서 민주당은 해산 전 의석인 230석에 한참 못 미치는 57석(지역구 27석,...</td>\n      <td>민주당</td>\n      <td>27석</td>\n      <td>0</td>\n    </tr>\n    <tr>\n      <th>2</th>\n      <td>유럽 축구 연맹(UEFA) 집행위원회는 2014년 1월 24일에 열린 회의를 통해 ...</td>\n      <td>유럽 축구 연맹</td>\n      <td>UEFA</td>\n      <td>6</td>\n    </tr>\n    <tr>\n      <th>3</th>\n      <td>용병 공격수 챠디의 부진과 시즌 초 활약한 강수일의 침체, 시즌 중반에 영입한 세르...</td>\n      <td>강수일</td>\n      <td>공격수</td>\n      <td>2</td>\n    </tr>\n    <tr>\n      <th>4</th>\n      <td>람캄행 왕은 1237년에서 1247년 사이 수코타이의 왕 퍼쿤 씨 인트라팃과 쓰엉 ...</td>\n      <td>람캄행</td>\n      <td>퍼쿤 씨 인트라팃</td>\n      <td>8</td>\n    </tr>\n    <tr>\n      <th>...</th>\n      <td>...</td>\n      <td>...</td>\n      <td>...</td>\n      <td>...</td>\n    </tr>\n    <tr>\n      <th>10351</th>\n      <td>하켄크로이츠()는 아돌프 히틀러에 의해 국가사회주의 독일 노동자당의 당기로 제정되었...</td>\n      <td>아돌프 히틀러</td>\n      <td>국가사회주의 독일 노동자당</td>\n      <td>4</td>\n    </tr>\n    <tr>\n      <th>10352</th>\n      <td>1924년 쑨원의 권유로 중국 국민당에 가입하는 한편, 제1차 국공합작에도 참여해...</td>\n      <td>쑨원</td>\n      <td>중국 국민당</td>\n      <td>4</td>\n    </tr>\n    <tr>\n      <th>10353</th>\n      <td>이후 김영삼에 의해 새로 발탁된 인사들과 함께 신한국당 소장파의 한 사람으로 활동하였다.</td>\n      <td>김영삼</td>\n      <td>신한국당</td>\n      <td>4</td>\n    </tr>\n    <tr>\n      <th>10354</th>\n      <td>1928년부터 1949년까지의 장제스의 중국 국민당 통치 기간에 전장은 장쑤 성의 ...</td>\n      <td>장제스</td>\n      <td>중국 국민당</td>\n      <td>4</td>\n    </tr>\n    <tr>\n      <th>10355</th>\n      <td>현 지역구 국회의원은 더불어민주당의 민병두 (3선, 2012년~)이다.</td>\n      <td>민병두</td>\n      <td>더불어민주당</td>\n      <td>4</td>\n    </tr>\n  </tbody>\n</table>\n<p>10356 rows × 4 columns</p>\n</div>"
     },
     "execution_count": 15,
     "metadata": {},
     "output_type": "execute_result"
    }
   ],
   "source": [
    "train_boddin_add_cut_load = pd.read_csv(\"../input/data/train/train+all+bodi_5.tsv\", delimiter='\\t')\n",
    "train_boddin_add_cut_load"
   ],
   "metadata": {
    "collapsed": false,
    "pycharm": {
     "name": "#%%\n"
    }
   }
  },
  {
   "cell_type": "code",
   "execution_count": 16,
   "outputs": [
    {
     "data": {
      "text/plain": "                                               sentence entity_01  \\\n0     영국에서 사용되는 스포츠 유틸리티 자동차의 브랜드로는 랜드로버(Land Rover)...      랜드로버   \n1     선거에서 민주당은 해산 전 의석인 230석에 한참 못 미치는 57석(지역구 27석,...       민주당   \n2     유럽 축구 연맹(UEFA) 집행위원회는 2014년 1월 24일에 열린 회의를 통해 ...  유럽 축구 연맹   \n3     용병 공격수 챠디의 부진과 시즌 초 활약한 강수일의 침체, 시즌 중반에 영입한 세르...       강수일   \n4     람캄행 왕은 1237년에서 1247년 사이 수코타이의 왕 퍼쿤 씨 인트라팃과 쓰엉 ...       람캄행   \n...                                                 ...       ...   \n8995  2002년 FIFA 월드컵 사우디아라비아와의 1차전에서 독일은 8-0으로 승리하였는...   사우디아라비아   \n8996  일본의 2대 메이커인 토요타와 닛산은 시장 점유율을 높이기 위한 신차 개발을 계속하...       토요타   \n8997  방호의의 손자 방덕룡(方德龍)은 1588년(선조 21년) 무과에 급제하고 낙안군수로...       방덕룡   \n8998  LG전자는 올해 초 국내시장에 출시한 2020년형 ‘LG 그램’ 시리즈를 이달부터 ...      LG전자   \n8999  전남도의회 안전건설소방위원회 차영수 의원(강진1)은 지난 14일 설 명절을 앞두고 ...       차영수   \n\n           entity_02  label  \n0                자동차     17  \n1                27석      0  \n2               UEFA      6  \n3                공격수      2  \n4          퍼쿤 씨 인트라팃      8  \n...              ...    ...  \n8995           2002년      0  \n8996              일본      9  \n8997  선무원종공신(宣武原從功臣)      2  \n8998              북미      0  \n8999              의원      2  \n\n[9000 rows x 4 columns]",
      "text/html": "<div>\n<style scoped>\n    .dataframe tbody tr th:only-of-type {\n        vertical-align: middle;\n    }\n\n    .dataframe tbody tr th {\n        vertical-align: top;\n    }\n\n    .dataframe thead th {\n        text-align: right;\n    }\n</style>\n<table border=\"1\" class=\"dataframe\">\n  <thead>\n    <tr style=\"text-align: right;\">\n      <th></th>\n      <th>sentence</th>\n      <th>entity_01</th>\n      <th>entity_02</th>\n      <th>label</th>\n    </tr>\n  </thead>\n  <tbody>\n    <tr>\n      <th>0</th>\n      <td>영국에서 사용되는 스포츠 유틸리티 자동차의 브랜드로는 랜드로버(Land Rover)...</td>\n      <td>랜드로버</td>\n      <td>자동차</td>\n      <td>17</td>\n    </tr>\n    <tr>\n      <th>1</th>\n      <td>선거에서 민주당은 해산 전 의석인 230석에 한참 못 미치는 57석(지역구 27석,...</td>\n      <td>민주당</td>\n      <td>27석</td>\n      <td>0</td>\n    </tr>\n    <tr>\n      <th>2</th>\n      <td>유럽 축구 연맹(UEFA) 집행위원회는 2014년 1월 24일에 열린 회의를 통해 ...</td>\n      <td>유럽 축구 연맹</td>\n      <td>UEFA</td>\n      <td>6</td>\n    </tr>\n    <tr>\n      <th>3</th>\n      <td>용병 공격수 챠디의 부진과 시즌 초 활약한 강수일의 침체, 시즌 중반에 영입한 세르...</td>\n      <td>강수일</td>\n      <td>공격수</td>\n      <td>2</td>\n    </tr>\n    <tr>\n      <th>4</th>\n      <td>람캄행 왕은 1237년에서 1247년 사이 수코타이의 왕 퍼쿤 씨 인트라팃과 쓰엉 ...</td>\n      <td>람캄행</td>\n      <td>퍼쿤 씨 인트라팃</td>\n      <td>8</td>\n    </tr>\n    <tr>\n      <th>...</th>\n      <td>...</td>\n      <td>...</td>\n      <td>...</td>\n      <td>...</td>\n    </tr>\n    <tr>\n      <th>8995</th>\n      <td>2002년 FIFA 월드컵 사우디아라비아와의 1차전에서 독일은 8-0으로 승리하였는...</td>\n      <td>사우디아라비아</td>\n      <td>2002년</td>\n      <td>0</td>\n    </tr>\n    <tr>\n      <th>8996</th>\n      <td>일본의 2대 메이커인 토요타와 닛산은 시장 점유율을 높이기 위한 신차 개발을 계속하...</td>\n      <td>토요타</td>\n      <td>일본</td>\n      <td>9</td>\n    </tr>\n    <tr>\n      <th>8997</th>\n      <td>방호의의 손자 방덕룡(方德龍)은 1588년(선조 21년) 무과에 급제하고 낙안군수로...</td>\n      <td>방덕룡</td>\n      <td>선무원종공신(宣武原從功臣)</td>\n      <td>2</td>\n    </tr>\n    <tr>\n      <th>8998</th>\n      <td>LG전자는 올해 초 국내시장에 출시한 2020년형 ‘LG 그램’ 시리즈를 이달부터 ...</td>\n      <td>LG전자</td>\n      <td>북미</td>\n      <td>0</td>\n    </tr>\n    <tr>\n      <th>8999</th>\n      <td>전남도의회 안전건설소방위원회 차영수 의원(강진1)은 지난 14일 설 명절을 앞두고 ...</td>\n      <td>차영수</td>\n      <td>의원</td>\n      <td>2</td>\n    </tr>\n  </tbody>\n</table>\n<p>9000 rows × 4 columns</p>\n</div>"
     },
     "execution_count": 16,
     "metadata": {},
     "output_type": "execute_result"
    }
   ],
   "source": [
    "train_ori"
   ],
   "metadata": {
    "collapsed": false,
    "pycharm": {
     "name": "#%%\n"
    }
   }
  }
 ],
 "metadata": {
  "kernelspec": {
   "display_name": "Python 3",
   "language": "python",
   "name": "python3"
  },
  "language_info": {
   "codemirror_mode": {
    "name": "ipython",
    "version": 2
   },
   "file_extension": ".py",
   "mimetype": "text/x-python",
   "name": "python",
   "nbconvert_exporter": "python",
   "pygments_lexer": "ipython2",
   "version": "2.7.6"
  }
 },
 "nbformat": 4,
 "nbformat_minor": 0
}