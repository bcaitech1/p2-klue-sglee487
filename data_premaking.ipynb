{
 "cells": [
  {
   "cell_type": "code",
   "execution_count": 2,
   "outputs": [
    {
     "name": "stdout",
     "output_type": "stream",
     "text": [
      "[Errno 2] No such file or directory: 'code'\n",
      "/opt/ml/code\n"
     ]
    }
   ],
   "source": [
    "%cd code"
   ],
   "metadata": {
    "collapsed": false,
    "pycharm": {
     "name": "#%%\n"
    }
   }
  },
  {
   "cell_type": "code",
   "execution_count": 5,
   "outputs": [],
   "source": [
    "from collections import Counter\n",
    "\n",
    "from load_data import *\n",
    "import pandas as pd\n",
    "import pororo as Pororo"
   ],
   "metadata": {
    "collapsed": false,
    "pycharm": {
     "name": "#%%\n"
    }
   }
  },
  {
   "cell_type": "code",
   "execution_count": 6,
   "outputs": [],
   "source": [
    "def add_entity_tokens(sentence, a1, a2, b1, b2):\n",
    "    new_sentence = None\n",
    "    ner = Pororo(task=\"ner\", lang=\"ko\")\n",
    "\n",
    "    if a1 > b1:\n",
    "        e1, e2 = sentence[b1:b2+1], sentence[a1:a2+1]\n",
    "        n1, n2 = Counter([e[1] for e in ner(e1)]).most_common(1)[0][0], Counter([e[1] for e in ner(e2)]).most_common(1)[0][0]\n",
    "        ner1, ner2 = \"α\" + n1 + \"α\", \"β\" + n2 + \"β\"\n",
    "        new_sentence = sentence[:b1] + \"@\" + ner1 + sentence[b1:b2+1] + \"@\" + sentence[b2+1:a1] + \"#\" + ner2 + sentence[a1:a2+1] + \"#\" + sentence[a2+1:]\n",
    "    else:\n",
    "        e1, e2 = sentence[a1:a2+1], sentence[b1:b2+1]\n",
    "        n1, n2 = Counter([e[1] for e in ner(e1)]).most_common(1)[0][0], Counter([e[1] for e in ner(e2)]).most_common(1)[0][0]\n",
    "        ner1, ner2 = \"α\" + n1 + \"α\", \"β\" + n2 + \"β\"\n",
    "        new_sentence = sentence[:a1] + \"#\" + ner1 + sentence[a1:a2+1] + \"#\" + sentence[a2+1:b1] + \"@\" + ner2 + sentence[b1:b2+1] + \"@\" + sentence[b2+1:]\n",
    "    return new_sentence"
   ],
   "metadata": {
    "collapsed": false,
    "pycharm": {
     "name": "#%%\n"
    }
   }
  },
  {
   "cell_type": "code",
   "execution_count": 7,
   "outputs": [
    {
     "name": "stdout",
     "output_type": "stream",
     "text": [
      "                                               sentence entity_01  \\\n",
      "0     영국에서 사용되는 스포츠 유틸리티 자동차의 브랜드로는 랜드로버(Land Rover)...      랜드로버   \n",
      "1     선거에서 민주당은 해산 전 의석인 230석에 한참 못 미치는 57석(지역구 27석,...       민주당   \n",
      "2     유럽 축구 연맹(UEFA) 집행위원회는 2014년 1월 24일에 열린 회의를 통해 ...  유럽 축구 연맹   \n",
      "3     용병 공격수 챠디의 부진과 시즌 초 활약한 강수일의 침체, 시즌 중반에 영입한 세르...       강수일   \n",
      "4     람캄행 왕은 1237년에서 1247년 사이 수코타이의 왕 퍼쿤 씨 인트라팃과 쓰엉 ...       람캄행   \n",
      "...                                                 ...       ...   \n",
      "8995  2002년 FIFA 월드컵 사우디아라비아와의 1차전에서 독일은 8-0으로 승리하였는...   사우디아라비아   \n",
      "8996  일본의 2대 메이커인 토요타와 닛산은 시장 점유율을 높이기 위한 신차 개발을 계속하...       토요타   \n",
      "8997  방호의의 손자 방덕룡(方德龍)은 1588년(선조 21년) 무과에 급제하고 낙안군수로...       방덕룡   \n",
      "8998  LG전자는 올해 초 국내시장에 출시한 2020년형 ‘LG 그램’ 시리즈를 이달부터 ...      LG전자   \n",
      "8999  전남도의회 안전건설소방위원회 차영수 의원(강진1)은 지난 14일 설 명절을 앞두고 ...       차영수   \n",
      "\n",
      "           entity_02  label  \n",
      "0                자동차     17  \n",
      "1                27석      0  \n",
      "2               UEFA      6  \n",
      "3                공격수      2  \n",
      "4          퍼쿤 씨 인트라팃      8  \n",
      "...              ...    ...  \n",
      "8995           2002년      0  \n",
      "8996              일본      9  \n",
      "8997  선무원종공신(宣武原從功臣)      2  \n",
      "8998              북미      0  \n",
      "8999              의원      2  \n",
      "\n",
      "[9000 rows x 4 columns]\n",
      "                                                 sentence  entity_01  \\\n",
      "0       카터 는 이집트 와 이스라엘 을 조정 하 여 , 캠프 데이비드 에서 안와르 사다트 ...    안와르 사다트   \n",
      "1       카터 는 이집트 와 이스라엘 을 조정 하 여 , 캠프 데이비드 에서 안와르 사다트 ...  캠프데이비드 협정   \n",
      "2       카터 는 이집트 와 이스라엘 을 조정 하 여 , 캠프 데이비드 에서 안와르 사다트 ...  캠프데이비드 협정   \n",
      "3       카터 는 이집트 와 이스라엘 을 조정 하 여 , 캠프 데이비드 에서 안와르 사다트 ...     메나헴 베긴   \n",
      "4       선거 전 까지 각축전 을 벌인 유력 한 후보 는 15 대 대통령 선거 에 나와 김대...       한나라당   \n",
      "...                                                   ...        ...   \n",
      "229606                2. \"사슴여인\" (박건호 작사 / 계동균 작곡) – 03:24        박건호   \n",
      "229607               9. \"안녕히 계세요\" (장덕 작사 / 장덕 작곡) - 02:06         장덕   \n",
      "229608  2009년, 블런트는 장마크 발레가 감독을 맡고 줄리언 펠로스가 각본을 쓴 《영 빅...    줄리언 펠로스   \n",
      "229609  2008년 저드 애퍼토가 제작하고 세스 로건과 에번 골드버그가 각본을 맡은 코미디 ...    에번 골드버그   \n",
      "229610  영화 《라이터를 켜라》,《귀신이 산다》의 장항준, 《그해 여름》의 김은희 작가가 공...        장항준   \n",
      "\n",
      "         entity_02  label  \n",
      "0              이집트      7  \n",
      "1             이스라엘     10  \n",
      "2              이집트     10  \n",
      "3             이스라엘      7  \n",
      "4              이회창     10  \n",
      "...            ...    ...  \n",
      "229606        사슴여인     22  \n",
      "229607     안녕히 계세요     22  \n",
      "229608      영 빅토리아     22  \n",
      "229609  파인애플 익스프레스     22  \n",
      "229610      귀신이 산다     22  \n",
      "\n",
      "[229611 rows x 4 columns]\n"
     ]
    }
   ],
   "source": [
    "from load_data import *\n",
    "train_ori = load_data(\"../input/data/train/train.tsv\")\n",
    "train_add = load_data(\"../input/data/train/all_csv.tsv\")\n",
    "print(train_ori)\n",
    "print(train_add)"
   ],
   "metadata": {
    "collapsed": false,
    "pycharm": {
     "name": "#%%\n"
    }
   }
  },
  {
   "cell_type": "code",
   "execution_count": 13,
   "outputs": [
    {
     "name": "stdout",
     "output_type": "stream",
     "text": [
      "sentence     카터 는 이집트 와 이스라엘 을 조정 하 여 , 캠프 데이비드 에서 안와르 사다트 ...\n",
      "entity_01                                              안와르 사다트\n",
      "entity_02                                                  이집트\n",
      "label                                                        7\n",
      "Name: 0, dtype: object\n",
      "sentence     카터 는 이집트 와 이스라엘 을 조정 하 여 , 캠프 데이비드 에서 안와르 사다트 ...\n",
      "entity_01                                            캠프데이비드 협정\n",
      "entity_02                                                 이스라엘\n",
      "label                                                       10\n",
      "Name: 1, dtype: object\n"
     ]
    }
   ],
   "source": [
    "print(train_add.loc[0])\n",
    "print(train_add.loc[1])"
   ],
   "metadata": {
    "collapsed": false,
    "pycharm": {
     "name": "#%%\n"
    }
   }
  },
  {
   "cell_type": "code",
   "execution_count": 22,
   "outputs": [
    {
     "name": "stdout",
     "output_type": "stream",
     "text": [
      "       sentence  entity_01  entity_02\n",
      "label                                \n",
      "0          4432       4432       4432\n",
      "1            92         92         92\n",
      "2           553        553        553\n",
      "3            44         44         44\n",
      "4           683        683        683\n",
      "5           186        186        186\n",
      "6           231        231        231\n",
      "7           209        209        209\n",
      "8           164        164        164\n",
      "9           115        115        115\n",
      "10          815        815        815\n",
      "11           58         58         58\n",
      "12           45         45         45\n",
      "13           11         11         11\n",
      "14           45         45         45\n",
      "15          335        335        335\n",
      "16           23         23         23\n",
      "17          171        171        171\n",
      "18            7          7          7\n",
      "19            4          4          4\n",
      "20          135        135        135\n",
      "21           84         84         84\n",
      "22           56         56         56\n",
      "23           79         79         79\n",
      "24          103        103        103\n",
      "25           52         52         52\n",
      "26            8          8          8\n",
      "27           36         36         36\n",
      "28            9          9          9\n",
      "29            6          6          6\n",
      "30           12         12         12\n",
      "31           15         15         15\n",
      "32           26         26         26\n",
      "33           67         67         67\n",
      "34           15         15         15\n",
      "35           27         27         27\n",
      "36           11         11         11\n",
      "37            3          3          3\n",
      "38           18         18         18\n",
      "39            9          9          9\n",
      "40            1          1          1\n",
      "41            5          5          5\n"
     ]
    }
   ],
   "source": [
    "print(train_ori.groupby('label').count())"
   ],
   "metadata": {
    "collapsed": false,
    "pycharm": {
     "name": "#%%\n"
    }
   }
  },
  {
   "cell_type": "code",
   "execution_count": 23,
   "outputs": [
    {
     "name": "stdout",
     "output_type": "stream",
     "text": [
      "       sentence  entity_01  entity_02\n",
      "label                                \n",
      "1         11205      11205      11205\n",
      "2         34615      34615      34615\n",
      "4           875        875        875\n",
      "7         77850      77850      77850\n",
      "8          4566       4566       4566\n",
      "10        13779      13779      13779\n",
      "11         9650       9650       9650\n",
      "12          124        124        124\n",
      "15         3436       3436       3436\n",
      "17        15039      15039      15039\n",
      "21        10461      10461      10461\n",
      "22        16601      16601      16601\n",
      "33        27757      27757      27757\n",
      "38         1591       1591       1591\n",
      "39         2062       2062       2062\n"
     ]
    }
   ],
   "source": [
    "print(train_add.groupby('label').count())"
   ],
   "metadata": {
    "collapsed": false,
    "pycharm": {
     "name": "#%%\n"
    }
   }
  },
  {
   "cell_type": "code",
   "execution_count": 30,
   "outputs": [
    {
     "name": "stdout",
     "output_type": "stream",
     "text": [
      "                                               sentence      entity_01  \\\n",
      "0                    함석헌 은 1901 년  평안북도 용천 에서 출생 했 다 .             함석헌   \n",
      "1      토마스 만 은 평의원 이 며 곡물 상인 이 었 던 토마스 요한 하인리히 만 과 율...          토마스 만   \n",
      "2      하인리히 뵐 ( Heinrich B ö ll , 쾰른 , 1917 년 12 월 2...         하인리히 뵐   \n",
      "3      하인리히 뵐 ( Heinrich B ö ll , 쾰른 , 1917 년 12 월 2...         하인리히 뵐   \n",
      "4     노무현 은 ' 1986 년  부산광역시 에서 송기인 신부 로부터 영세 를 받 아 '...            송기인   \n",
      "...                                                 ...            ...   \n",
      "6905  테오도어 아이케(Theodor Eicke, 1892년 10월 17일 - 1943년 ...         에른스트 룀   \n",
      "6906  또한, 쿠바의 체 게바라 무덤은 체 게바라가 1967년에 볼리비아에서 전사했기 때문...          체 게바라   \n",
      "6907   하렘은 왕실의 가정으로 술탄과 그의 가족들이 살았으며, 터키의 초대 대통령인 무스...  무스타파 케말 아타튀르크   \n",
      "6908   드디어 1965년 5월 18일 새벽 3시 35분 시리아 보안당국은 서둘러 엘리 코...          엘리 코헨   \n",
      "6909   1942년 6월 라인하르트 하이드리히가 체코에서 암살당한 뒤 독일경찰청장과 국가보...    라인하르트 하이드리히   \n",
      "\n",
      "     entity_02  label  \n",
      "0         평안북도     19  \n",
      "1          뤼베크     19  \n",
      "2       랑엔브로이히     19  \n",
      "3           쾰른     19  \n",
      "4        부산광역시     19  \n",
      "...        ...    ...  \n",
      "6905     나치 독일     40  \n",
      "6906      볼리비아     40  \n",
      "6907        터키     40  \n",
      "6908       시리아     40  \n",
      "6909        체코     40  \n",
      "\n",
      "[50900 rows x 4 columns]\n"
     ]
    }
   ],
   "source": [
    "bodiin19 = pd.read_csv(\"../input/data/train/19_bornIn_city.tsv\", delimiter='\\t')\n",
    "bodiin26 = pd.read_csv(\"../input/data/train/26_bornIn_country.tsv\", delimiter='\\t')\n",
    "bodiin37 = pd.read_csv(\"../input/data/train/37_dienIn_city.tsv\", delimiter='\\t')\n",
    "bodiin40 = pd.read_csv(\"../input/data/train/40_dienIn_country.tsv\", delimiter='\\t')\n",
    "boddin = pd.concat([bodiin19,bodiin26,bodiin37,bodiin40])\n",
    "print(boddin)"
   ],
   "metadata": {
    "collapsed": false,
    "pycharm": {
     "name": "#%%\n"
    }
   }
  },
  {
   "cell_type": "code",
   "execution_count": 31,
   "outputs": [
    {
     "name": "stdout",
     "output_type": "stream",
     "text": [
      "                                                 sentence entity_01  \\\n",
      "0                      함석헌 은 1901 년  평안북도 용천 에서 출생 했 다 .        함석헌   \n",
      "1        토마스 만 은 평의원 이 며 곡물 상인 이 었 던 토마스 요한 하인리히 만 과 율...     토마스 만   \n",
      "2        하인리히 뵐 ( Heinrich B ö ll , 쾰른 , 1917 년 12 월 2...    하인리히 뵐   \n",
      "3        하인리히 뵐 ( Heinrich B ö ll , 쾰른 , 1917 년 12 월 2...    하인리히 뵐   \n",
      "4       노무현 은 ' 1986 년  부산광역시 에서 송기인 신부 로부터 영세 를 받 아 '...       송기인   \n",
      "...                                                   ...       ...   \n",
      "229606                2. \"사슴여인\" (박건호 작사 / 계동균 작곡) – 03:24       박건호   \n",
      "229607               9. \"안녕히 계세요\" (장덕 작사 / 장덕 작곡) - 02:06        장덕   \n",
      "229608  2009년, 블런트는 장마크 발레가 감독을 맡고 줄리언 펠로스가 각본을 쓴 《영 빅...   줄리언 펠로스   \n",
      "229609  2008년 저드 애퍼토가 제작하고 세스 로건과 에번 골드버그가 각본을 맡은 코미디 ...   에번 골드버그   \n",
      "229610  영화 《라이터를 켜라》,《귀신이 산다》의 장항준, 《그해 여름》의 김은희 작가가 공...       장항준   \n",
      "\n",
      "         entity_02  label  \n",
      "0             평안북도     19  \n",
      "1              뤼베크     19  \n",
      "2           랑엔브로이히     19  \n",
      "3               쾰른     19  \n",
      "4            부산광역시     19  \n",
      "...            ...    ...  \n",
      "229606        사슴여인     22  \n",
      "229607     안녕히 계세요     22  \n",
      "229608      영 빅토리아     22  \n",
      "229609  파인애플 익스프레스     22  \n",
      "229610      귀신이 산다     22  \n",
      "\n",
      "[280511 rows x 4 columns]\n"
     ]
    }
   ],
   "source": [
    "boddin_add = pd.concat([boddin,train_add])\n",
    "print(boddin_add)"
   ],
   "metadata": {
    "collapsed": false,
    "pycharm": {
     "name": "#%%\n"
    }
   }
  },
  {
   "cell_type": "code",
   "execution_count": 32,
   "outputs": [],
   "source": [
    "boddin_add.to_csv('../input/data/train/all+bodi.tsv', index=False, sep='\\t')"
   ],
   "metadata": {
    "collapsed": false,
    "pycharm": {
     "name": "#%%\n"
    }
   }
  },
  {
   "cell_type": "code",
   "execution_count": 33,
   "outputs": [
    {
     "name": "stdout",
     "output_type": "stream",
     "text": [
      "                                                 sentence entity_01  \\\n",
      "0                      함석헌 은 1901 년  평안북도 용천 에서 출생 했 다 .        함석헌   \n",
      "1        토마스 만 은 평의원 이 며 곡물 상인 이 었 던 토마스 요한 하인리히 만 과 율...     토마스 만   \n",
      "2        하인리히 뵐 ( Heinrich B ö ll , 쾰른 , 1917 년 12 월 2...    하인리히 뵐   \n",
      "3        하인리히 뵐 ( Heinrich B ö ll , 쾰른 , 1917 년 12 월 2...    하인리히 뵐   \n",
      "4       노무현 은 ' 1986 년  부산광역시 에서 송기인 신부 로부터 영세 를 받 아 '...       송기인   \n",
      "...                                                   ...       ...   \n",
      "280506                2. \"사슴여인\" (박건호 작사 / 계동균 작곡) – 03:24       박건호   \n",
      "280507               9. \"안녕히 계세요\" (장덕 작사 / 장덕 작곡) - 02:06        장덕   \n",
      "280508  2009년, 블런트는 장마크 발레가 감독을 맡고 줄리언 펠로스가 각본을 쓴 《영 빅...   줄리언 펠로스   \n",
      "280509  2008년 저드 애퍼토가 제작하고 세스 로건과 에번 골드버그가 각본을 맡은 코미디 ...   에번 골드버그   \n",
      "280510  영화 《라이터를 켜라》,《귀신이 산다》의 장항준, 《그해 여름》의 김은희 작가가 공...       장항준   \n",
      "\n",
      "         entity_02  label  \n",
      "0             평안북도     19  \n",
      "1              뤼베크     19  \n",
      "2           랑엔브로이히     19  \n",
      "3               쾰른     19  \n",
      "4            부산광역시     19  \n",
      "...            ...    ...  \n",
      "280506        사슴여인     22  \n",
      "280507     안녕히 계세요     22  \n",
      "280508      영 빅토리아     22  \n",
      "280509  파인애플 익스프레스     22  \n",
      "280510      귀신이 산다     22  \n",
      "\n",
      "[280511 rows x 4 columns]\n"
     ]
    }
   ],
   "source": [
    "boddin_add_load = pd.read_csv(\"../input/data/train/all+bodi.tsv\", delimiter='\\t')\n",
    "print(boddin_add_load)"
   ],
   "metadata": {
    "collapsed": false,
    "pycharm": {
     "name": "#%%\n"
    }
   }
  }
 ],
 "metadata": {
  "kernelspec": {
   "display_name": "Python 3",
   "language": "python",
   "name": "python3"
  },
  "language_info": {
   "codemirror_mode": {
    "name": "ipython",
    "version": 2
   },
   "file_extension": ".py",
   "mimetype": "text/x-python",
   "name": "python",
   "nbconvert_exporter": "python",
   "pygments_lexer": "ipython2",
   "version": "2.7.6"
  }
 },
 "nbformat": 4,
 "nbformat_minor": 0
}